{
 "cells": [
  {
   "cell_type": "code",
   "execution_count": 1,
   "metadata": {},
   "outputs": [],
   "source": [
    "import pandas as pd\n",
    "import geopandas as gpd\n",
    "import maup\n",
    "import time\n",
    "from maup import smart_repair\n",
    "from gerrychain import Graph\n",
    "\n",
    "maup.progress.enabled = True"
   ]
  },
  {
   "cell_type": "code",
   "execution_count": 2,
   "metadata": {},
   "outputs": [],
   "source": [
    "import warnings\n",
    "warnings.filterwarnings(\"ignore\")"
   ]
  },
  {
   "cell_type": "code",
   "execution_count": 3,
   "metadata": {},
   "outputs": [],
   "source": [
    "# state = New Mexico\n",
    "state_ab = \"nm\""
   ]
  },
  {
   "cell_type": "markdown",
   "metadata": {},
   "source": [
    "## Data\n",
    "1. Download all the data in directory \"nm_data\"\n",
    "2. Extract them all"
   ]
  },
  {
   "cell_type": "code",
   "execution_count": 5,
   "metadata": {},
   "outputs": [],
   "source": [
    "data_folder = state_ab + \"_data/\"\n",
    "population1_data = \"./{}{}_pl2020_b/{}_pl2020_p1_b.shp\".format(data_folder, state_ab, state_ab)\n",
    "population2_data = \"./{}{}_pl2020_b/{}_pl2020_p2_b.shp\".format(data_folder, state_ab, state_ab)\n",
    "vap_data =  \"./{}{}_pl2020_b/{}_pl2020_p4_b.shp\".format(data_folder, state_ab, state_ab)\n",
    "vest20_data = \"./{}{}_vest_20/{}_vest_20.shp\".format(data_folder, state_ab, state_ab)\n",
    "vest18_data = \"./{}{}_vest_18/{}_vest_18.shp\".format(data_folder, state_ab, state_ab)\n",
    "vest16_data = \"./{}{}_vest_16/{}_vest_16.shp\".format(data_folder, state_ab, state_ab)\n",
    "cd_data = \"./{}{}_cong_adopted_2021/CD_221711_Shapefile.shp\".format(data_folder, state_ab)\n",
    "send_data = \"./{}{}_sldu_adopted_2022/SD_221780.shp\".format(data_folder, state_ab)\n",
    "hdist_data = \"./{}{}_sldl_adopted_2021/HD_221619.shp\".format(data_folder, state_ab)\n",
    "county_data = \"./{}{}_pl2020_cnty/{}_pl2020_cnty.shp\".format(data_folder, state_ab, state_ab)"
   ]
  },
  {
   "cell_type": "code",
   "execution_count": 6,
   "metadata": {},
   "outputs": [],
   "source": [
    "def do_smart_repair(df, min_rook_length = None, snap_precision = 10):\n",
    "    # change it to the UTM it needs for smart_repair\n",
    "    df = df.to_crs(df.estimate_utm_crs())\n",
    "    df = smart_repair(df, min_rook_length = min_rook_length)\n",
    "\n",
    "    if maup.doctor(df) == False:\n",
    "        raise Exception('maup.doctor failed')\n",
    "    \n",
    "    return df"
   ]
  },
  {
   "cell_type": "code",
   "execution_count": 7,
   "metadata": {},
   "outputs": [],
   "source": [
    "def add_district(dist_df, dist_name, election_df, col_name):\n",
    "    election_df = election_df.to_crs(election_df.estimate_utm_crs())\n",
    "    dist_df = dist_df.to_crs(dist_df.estimate_utm_crs())\n",
    "    # check if it needs to be smart_repair\n",
    "    if maup.doctor(dist_df) != True:\n",
    "        dist_df = do_smart_repair(dist_df)\n",
    "\n",
    "    # assign the pricincts\n",
    "    precincts_to_district_assignment = maup.assign(election_df.geometry, dist_df.geometry)\n",
    "    election_df[dist_name] = precincts_to_district_assignment\n",
    "    for precinct_index in range(len(election_df)):\n",
    "        election_df.at[precinct_index, dist_name] = dist_df.at[election_df.at[precinct_index, dist_name], col_name]\n",
    "\n",
    "    return election_df"
   ]
  },
  {
   "cell_type": "code",
   "execution_count": 8,
   "metadata": {},
   "outputs": [],
   "source": [
    "def rename(original, year):\n",
    "    party = original[6]\n",
    "    if party == 'R' or party == 'D':\n",
    "        return original[3:6] + year + original[6]\n",
    "    else:\n",
    "        return original[3:6] + year + 'O'"
   ]
  },
  {
   "cell_type": "code",
   "execution_count": 9,
   "metadata": {},
   "outputs": [],
   "source": [
    "pop_col = ['TOTPOP', 'HISP', 'NH_WHITE', 'NH_BLACK', 'NH_AMIN', 'NH_ASIAN', 'NH_NHPI', 'NH_OTHER', 'NH_2MORE', 'H_WHITE', 'H_BLACK', 'H_AMIN', 'H_ASIAN', 'H_NHPI', 'H_OTHER', 'H_2MORE', 'VAP', 'HVAP', 'WVAP', 'BVAP', 'AMINVAP', 'ASIANVAP', 'NHPIVAP', 'OTHERVAP', '2MOREVAP']"
   ]
  },
  {
   "cell_type": "code",
   "execution_count": 10,
   "metadata": {},
   "outputs": [],
   "source": [
    "def check_population(population, df):\n",
    "    pop_check = pd.DataFrame({\n",
    "        'pop_col': pop_col,\n",
    "        'population_df': population[pop_col].sum(), \n",
    "        'vest_base': df[pop_col].sum(),\n",
    "        'equal': [x == y for x, y in zip(population[pop_col].sum(), df[pop_col].sum())]\n",
    "    })\n",
    "    if pop_check['equal'].mean() < 1:\n",
    "        print(pop_check)\n",
    "        raise Exception(\"population doesn't agree\")\n",
    "\n",
    "    else:\n",
    "        print(\"population agrees\")"
   ]
  },
  {
   "cell_type": "code",
   "execution_count": 11,
   "metadata": {},
   "outputs": [],
   "source": [
    "def add_vest(vest, df, year, population, start_col, snap_precision = 10):\n",
    "    df = df.to_crs(df.estimate_utm_crs())\n",
    "    vest = vest.to_crs(vest.estimate_utm_crs())\n",
    "    population = population.to_crs(population.estimate_utm_crs())\n",
    "    df_crs = df.crs\n",
    "    vest_crs = vest.crs\n",
    "    \n",
    "     # check if it needs to be smart_repair\n",
    "    if maup.doctor(vest) != True:\n",
    "        vest = do_smart_repair(vest, snap_precision = snap_precision)\n",
    "    \n",
    "    # rename the columns\n",
    "    original_col = vest.columns[start_col:-1]\n",
    "    new_col = [rename(i, year) for i in original_col]\n",
    "    rename_dict = dict(zip(original_col, new_col))\n",
    "    vest = vest.rename(columns=rename_dict)\n",
    "    vest = vest.groupby(level=0, axis=1).sum() # combine all the other party's vote into columns with sufix \"O\"\n",
    "    col_name = list(set(new_col))\n",
    "    col_name.sort()\n",
    "    \n",
    "    # make the blocks from precincts by weight\n",
    "    vest = gpd.GeoDataFrame(vest, crs=vest_crs)\n",
    "    election_in_block = population[[\"VAP\", 'geometry']] # population_df is in block scale\n",
    "    blocks_to_precincts_assignment = maup.assign(election_in_block.geometry, vest.geometry)\n",
    "    weights = election_in_block[\"VAP\"] / blocks_to_precincts_assignment.map(election_in_block[\"VAP\"].groupby(blocks_to_precincts_assignment).sum())\n",
    "    weights = weights.fillna(0)\n",
    "    prorated = maup.prorate(blocks_to_precincts_assignment, vest[col_name], weights)\n",
    "    election_in_block[col_name] = prorated\n",
    "    \n",
    "    # assign blocks to precincts\n",
    "    election_in_block = gpd.GeoDataFrame(election_in_block, crs=vest_crs)\n",
    "    df = gpd.GeoDataFrame(df, crs=df_crs)\n",
    "    block_to_pricinct_assginment = maup.assign(election_in_block.geometry, df.geometry)\n",
    "    df[col_name] = election_in_block[col_name].groupby(block_to_pricinct_assginment).sum()\n",
    "    df = df.groupby(level=0, axis=1).sum()\n",
    "    df = gpd.GeoDataFrame(df, crs = df_crs)\n",
    "    # check if population agrees\n",
    "    check_population(population, df)\n",
    "    \n",
    "    return df"
   ]
  },
  {
   "cell_type": "code",
   "execution_count": 12,
   "metadata": {},
   "outputs": [],
   "source": [
    "def add_vest_base(vest, start_col, year, county = None, min_rook_length = None, snap_precision = 10):\n",
    "    vest = vest.to_crs(vest.estimate_utm_crs())\n",
    "    vest_crs = vest.crs\n",
    "    original_col = vest.columns[start_col:-1]\n",
    "    new_col = [rename(i, year) for i in original_col]\n",
    "    rename_dict = dict(zip(original_col, new_col))\n",
    "    vest = vest.rename(columns=rename_dict)\n",
    "    vest = vest.groupby(level=0, axis=1).sum()\n",
    "    vest = gpd.GeoDataFrame(vest, crs=vest_crs)\n",
    "\n",
    "    if county is not None:\n",
    "        county = county.to_crs(county.estimate_utm_crs())\n",
    "        vest = smart_repair(vest, nest_within_regions = county, min_rook_length = min_rook_length, snap_precision = snap_precision) # nest precincts within counties\n",
    "\n",
    "    else:\n",
    "        vest = smart_repair(vest, min_rook_length = min_rook_length, snap_precision = snap_precision) \n",
    "    \n",
    "    return vest"
   ]
  },
  {
   "cell_type": "code",
   "execution_count": 13,
   "metadata": {},
   "outputs": [],
   "source": [
    "def check_small_boundary_lengths(vest_base):\n",
    "    import copy\n",
    "    vest_base = vest_base.to_crs(vest_base.estimate_utm_crs())\n",
    "\n",
    "    boundaries = copy.deepcopy(vest_base)\n",
    "    boundaries[\"geometry\"] = boundaries.geometry.boundary  # get boundaries\n",
    "    neighbors = gpd.sjoin(boundaries, vest_base, predicate=\"intersects\") # find boundaries that intersect\n",
    "    neighbors = neighbors[neighbors.index != neighbors.index_right] # remove boundaries of a region with itself\n",
    "\n",
    "    # compute shared border length using intersection\n",
    "    borders = list(neighbors.apply(\n",
    "        lambda row: row.geometry.intersection(vest_base.loc[row.index_right, \"geometry\"]).length, axis=1\n",
    "    ))\n",
    "\n",
    "    borders.sort()\n",
    "    \n",
    "    return borders"
   ]
  },
  {
   "cell_type": "markdown",
   "metadata": {},
   "source": [
    "### Read the census data"
   ]
  },
  {
   "cell_type": "code",
   "execution_count": 15,
   "metadata": {},
   "outputs": [],
   "source": [
    "population1_df = gpd.read_file(population1_data)\n",
    "population2_df = gpd.read_file(population2_data)\n",
    "vap_df = gpd.read_file(vap_data)\n",
    "county_df = gpd.read_file(county_data)"
   ]
  },
  {
   "cell_type": "code",
   "execution_count": 16,
   "metadata": {},
   "outputs": [],
   "source": [
    "population2_df = population2_df.drop(columns=['SUMLEV', 'LOGRECNO', 'GEOID', 'COUNTY', 'geometry'])\n",
    "vap_df = vap_df.drop(columns=['SUMLEV', 'LOGRECNO', 'GEOID', 'COUNTY', 'geometry'])"
   ]
  },
  {
   "cell_type": "code",
   "execution_count": 17,
   "metadata": {},
   "outputs": [],
   "source": [
    "population_df = pd.merge(population1_df, population2_df, on='GEOID20')\n",
    "population_df = pd.merge(population_df, vap_df, on='GEOID20')\n",
    "population_df = population_df.to_crs(population_df.estimate_utm_crs())"
   ]
  },
  {
   "cell_type": "code",
   "execution_count": 18,
   "metadata": {},
   "outputs": [
    {
     "name": "stderr",
     "output_type": "stream",
     "text": [
      "100%|█████████████████████████████████| 107215/107215 [00:42<00:00, 2525.79it/s]\n"
     ]
    },
    {
     "data": {
      "text/plain": [
       "True"
      ]
     },
     "execution_count": 18,
     "metadata": {},
     "output_type": "execute_result"
    }
   ],
   "source": [
    "maup.doctor(population_df)"
   ]
  },
  {
   "cell_type": "code",
   "execution_count": 19,
   "metadata": {},
   "outputs": [],
   "source": [
    "population_df['H_WHITE'] = population_df.apply(lambda t: t['P0010003'] - t['P0020005'], 1)\n",
    "population_df['H_BLACK'] = population_df.apply(lambda t: t['P0010004'] - t['P0020006'], 1)\n",
    "population_df['H_AMIN'] = population_df.apply(lambda t: t['P0010005'] - t['P0020007'], 1)\n",
    "population_df['H_ASIAN'] = population_df.apply(lambda t: t['P0010006'] - t['P0020008'], 1)\n",
    "population_df['H_NHPI'] = population_df.apply(lambda t: t['P0010007'] - t['P0020009'], 1)\n",
    "population_df['H_OTHER'] = population_df.apply(lambda t: t['P0010008'] - t['P0020010'], 1)\n",
    "population_df['H_2MORE'] = population_df.apply(lambda t: t['P0010009'] - t['P0020011'], 1)"
   ]
  },
  {
   "cell_type": "code",
   "execution_count": 20,
   "metadata": {},
   "outputs": [],
   "source": [
    "rename_dict = {'P0020001': 'TOTPOP', 'P0020002': 'HISP', 'P0020005': 'NH_WHITE', 'P0020006': 'NH_BLACK', 'P0020007': 'NH_AMIN',\n",
    "                    'P0020008': 'NH_ASIAN', 'P0020009': 'NH_NHPI', 'P0020010': 'NH_OTHER', 'P0020011': 'NH_2MORE',\n",
    "                    'P0040001': 'VAP', 'P0040002': 'HVAP', 'P0040005': 'WVAP', 'P0040006': 'BVAP', 'P0040007': 'AMINVAP',\n",
    "                                        'P0040008': 'ASIANVAP', 'P0040009': 'NHPIVAP', 'P0040010': 'OTHERVAP', 'P0040011': '2MOREVAP'}"
   ]
  },
  {
   "cell_type": "code",
   "execution_count": 21,
   "metadata": {},
   "outputs": [],
   "source": [
    "population_df.rename(columns=rename_dict, inplace = True)"
   ]
  },
  {
   "cell_type": "code",
   "execution_count": 22,
   "metadata": {},
   "outputs": [
    {
     "name": "stderr",
     "output_type": "stream",
     "text": [
      "100%|██████████████████████████████████████████| 33/33 [00:00<00:00, 474.36it/s]\n"
     ]
    },
    {
     "data": {
      "text/plain": [
       "True"
      ]
     },
     "execution_count": 22,
     "metadata": {},
     "output_type": "execute_result"
    }
   ],
   "source": [
    "county_df = county_df.to_crs(county_df.estimate_utm_crs())\n",
    "maup.doctor(county_df)"
   ]
  },
  {
   "cell_type": "markdown",
   "metadata": {},
   "source": [
    "## Read the vest 20 data\n",
    "\n",
    "Now using it as a \"base pricinct\""
   ]
  },
  {
   "cell_type": "markdown",
   "metadata": {},
   "source": [
    "## Check if vest20 can be used as base"
   ]
  },
  {
   "cell_type": "code",
   "execution_count": 25,
   "metadata": {},
   "outputs": [],
   "source": [
    "vest20 = gpd.read_file(vest20_data)"
   ]
  },
  {
   "cell_type": "code",
   "execution_count": 26,
   "metadata": {},
   "outputs": [
    {
     "data": {
      "text/plain": [
       "Index(['STATEFP', 'COUNTYFP', 'COUNTYNAME', 'VTDST', 'NAME', 'G20PREDBID',\n",
       "       'G20PRERTRU', 'G20PRELJOR', 'G20PREGHAW', 'G20PRECTIT', 'G20PRESLAR',\n",
       "       'G20USSDLUJ', 'G20USSRRON', 'G20USSLWAL', 'G20SSCDBAC', 'G20SSCRFUL',\n",
       "       'G20SSCDTHO', 'G20SSCRMOR', 'G20SACDIVE', 'G20SACRJOH', 'G20SACDHEN',\n",
       "       'G20SACRLEE', 'G20SACLCUR', 'G20SACDYOH', 'G20SACRMON', 'geometry'],\n",
       "      dtype='object')"
      ]
     },
     "execution_count": 26,
     "metadata": {},
     "output_type": "execute_result"
    }
   ],
   "source": [
    "vest20.columns"
   ]
  },
  {
   "cell_type": "code",
   "execution_count": 27,
   "metadata": {},
   "outputs": [],
   "source": [
    "start_col = 5\n",
    "vest_base_data = vest20\n",
    "year = '20'"
   ]
  },
  {
   "cell_type": "code",
   "execution_count": 28,
   "metadata": {},
   "outputs": [
    {
     "name": "stderr",
     "output_type": "stream",
     "text": [
      "100%|██████████████████████████████████████████| 33/33 [00:00<00:00, 483.61it/s]\n"
     ]
    },
    {
     "name": "stdout",
     "output_type": "stream",
     "text": [
      "Snapping all geometries to a grid with precision 10^( -5 ) to avoid GEOS errors.\n"
     ]
    },
    {
     "name": "stderr",
     "output_type": "stream",
     "text": [
      "100%|██████████████████████████████████████████| 33/33 [00:00<00:00, 823.72it/s]\n",
      "100%|███████████████████████████████████████████| 33/33 [00:00<00:00, 77.54it/s]\n"
     ]
    },
    {
     "name": "stdout",
     "output_type": "stream",
     "text": [
      "Identifying overlaps...\n"
     ]
    },
    {
     "name": "stderr",
     "output_type": "stream",
     "text": [
      "100%|███████████████████████████████████| 17087/17087 [00:08<00:00, 1959.99it/s]\n"
     ]
    },
    {
     "name": "stdout",
     "output_type": "stream",
     "text": [
      "Resolving overlaps and filling gaps...\n"
     ]
    },
    {
     "name": "stderr",
     "output_type": "stream",
     "text": [
      "100%|██████████████████████████████████████████| 33/33 [00:00<00:00, 997.08it/s]\n",
      "100%|███████████████████████████████████████████| 33/33 [00:00<00:00, 78.90it/s]\n",
      "Gaps to simplify in region 0: 100%|██████████| 213/213 [00:01<00:00, 119.48it/s]\n",
      "Gaps to fill in region 0: 100%|███████████████████| 7/7 [00:00<00:00, 49.67it/s]\n",
      "Gaps to simplify in region 1: 100%|██████████| 164/164 [00:01<00:00, 141.18it/s]\n",
      "Gaps to fill in region 1: 100%|███████████████████| 2/2 [00:00<00:00, 70.77it/s]\n",
      "Gaps to simplify in region 2: 100%|███████████| 397/397 [00:07<00:00, 50.72it/s]\n",
      "Gaps to fill in region 2: 100%|█████████████████| 21/21 [00:01<00:00, 20.22it/s]\n",
      "Gaps to simplify in region 3: 100%|███████████| 280/280 [00:05<00:00, 51.43it/s]\n",
      "Gaps to fill in region 3: 100%|███████████████████| 7/7 [00:00<00:00, 16.46it/s]\n",
      "Gaps to simplify in region 4: 100%|███████████| 180/180 [00:01<00:00, 95.66it/s]\n",
      "Gaps to fill in region 4: 100%|███████████████████| 9/9 [00:00<00:00, 39.91it/s]\n",
      "Gaps to simplify in region 5: 100%|███████████| 282/282 [00:03<00:00, 85.44it/s]\n",
      "Gaps to fill in region 5: 100%|███████████████████| 7/7 [00:00<00:00, 37.29it/s]\n",
      "Gaps to simplify in region 6: 100%|███████████| 183/183 [00:01<00:00, 94.81it/s]\n",
      "Gaps to fill in region 6: 100%|███████████████████| 5/5 [00:00<00:00, 23.46it/s]\n",
      "Gaps to simplify in region 7: 100%|███████████| 268/268 [00:06<00:00, 43.17it/s]\n",
      "Gaps to fill in region 7: 100%|█████████████████| 11/11 [00:00<00:00, 21.89it/s]\n",
      "Gaps to simplify in region 8: 100%|███████████| 988/988 [00:22<00:00, 44.17it/s]\n",
      "Gaps to fill in region 8: 100%|█████████████████| 26/26 [00:01<00:00, 21.78it/s]\n",
      "Gaps to simplify in region 9: 100%|██████████| 187/187 [00:01<00:00, 124.37it/s]\n",
      "Gaps to fill in region 9: 100%|█████████████████| 10/10 [00:00<00:00, 69.87it/s]\n",
      "Gaps to simplify in region 10: 100%|██████████| 326/326 [00:03<00:00, 88.21it/s]\n",
      "Gaps to fill in region 10: 100%|██████████████████| 8/8 [00:00<00:00, 45.50it/s]\n",
      "Gaps to simplify in region 11: 100%|██████████| 446/446 [00:06<00:00, 70.62it/s]\n",
      "Gaps to fill in region 11: 100%|████████████████| 29/29 [00:00<00:00, 39.85it/s]\n",
      "Gaps to simplify in region 12: 100%|██████████| 337/337 [00:06<00:00, 49.80it/s]\n",
      "Gaps to fill in region 12: 100%|██████████████████| 5/5 [00:00<00:00, 14.35it/s]\n",
      "Gaps to simplify in region 13: 100%|██████████| 298/298 [00:05<00:00, 51.00it/s]\n",
      "Gaps to fill in region 13: 100%|████████████████| 25/25 [00:00<00:00, 28.72it/s]\n",
      "Gaps to simplify in region 14: 100%|██████████| 572/572 [00:10<00:00, 55.66it/s]\n",
      "Gaps to fill in region 14: 100%|██████████████████| 4/4 [00:00<00:00, 14.08it/s]\n",
      "Gaps to simplify in region 15: 100%|█████████| 237/237 [00:01<00:00, 144.07it/s]\n",
      "Gaps to fill in region 15: 100%|██████████████████| 6/6 [00:00<00:00, 54.71it/s]\n",
      "Gaps to simplify in region 16: 100%|██████████| 176/176 [00:02<00:00, 87.05it/s]\n",
      "Gaps to fill in region 16: 100%|██████████████████| 4/4 [00:00<00:00, 17.28it/s]\n",
      "Gaps to simplify in region 17: 100%|██████████| 287/287 [00:05<00:00, 54.18it/s]\n",
      "Gaps to fill in region 17: 100%|████████████████| 10/10 [00:00<00:00, 35.41it/s]\n",
      "Gaps to simplify in region 18: 100%|██████████| 346/346 [00:15<00:00, 22.63it/s]\n",
      "Gaps to fill in region 18: 100%|██████████████████| 6/6 [00:00<00:00, 15.62it/s]\n",
      "Gaps to simplify in region 19: 100%|██████████| 277/277 [00:03<00:00, 74.07it/s]\n",
      "Gaps to fill in region 19: 100%|██████████████████| 5/5 [00:00<00:00, 33.35it/s]\n",
      "Gaps to simplify in region 20: 100%|██████████| 783/783 [00:21<00:00, 35.64it/s]\n",
      "Gaps to fill in region 20: 100%|████████████████| 17/17 [00:01<00:00, 15.77it/s]\n",
      "Gaps to simplify in region 21: 100%|████████| 1043/1043 [00:30<00:00, 33.85it/s]\n",
      "Gaps to fill in region 21: 100%|████████████████| 12/12 [00:00<00:00, 16.89it/s]\n",
      "Gaps to simplify in region 22: 100%|██████████| 581/581 [00:14<00:00, 39.17it/s]\n",
      "Gaps to fill in region 22: 100%|████████████████| 12/12 [00:00<00:00, 25.68it/s]\n",
      "Gaps to simplify in region 23: 100%|██████████| 605/605 [00:16<00:00, 36.87it/s]\n",
      "Gaps to fill in region 23: 100%|████████████████| 11/11 [00:00<00:00, 12.28it/s]\n",
      "Gaps to simplify in region 24: 100%|██████████| 384/384 [00:09<00:00, 41.12it/s]\n",
      "Gaps to fill in region 24: 100%|████████████████| 16/16 [00:00<00:00, 19.23it/s]\n",
      "Gaps to simplify in region 25: 100%|██████████| 372/372 [00:04<00:00, 81.18it/s]\n",
      "Gaps to fill in region 25: 100%|██████████████████| 3/3 [00:00<00:00, 39.15it/s]\n",
      "Gaps to simplify in region 26: 100%|██████████| 377/377 [00:04<00:00, 86.72it/s]\n",
      "Gaps to fill in region 26: 100%|████████████████| 17/17 [00:00<00:00, 37.72it/s]\n",
      "Gaps to simplify in region 27: 100%|██████████| 690/690 [00:18<00:00, 36.87it/s]\n",
      "Gaps to fill in region 27: 100%|██████████████████| 5/5 [00:00<00:00, 11.28it/s]\n",
      "Gaps to simplify in region 28: 100%|██████████| 226/226 [00:03<00:00, 73.64it/s]\n",
      "Gaps to fill in region 28: 100%|██████████████████| 4/4 [00:00<00:00, 37.64it/s]\n",
      "Gaps to simplify in region 29: 100%|██████████| 357/357 [00:05<00:00, 63.72it/s]\n",
      "Gaps to fill in region 29: 100%|██████████████████| 3/3 [00:00<00:00, 21.56it/s]\n",
      "Gaps to simplify in region 30: 100%|██████████| 302/302 [00:03<00:00, 92.13it/s]\n",
      "Gaps to fill in region 30: 100%|████████████████| 12/12 [00:00<00:00, 50.67it/s]\n",
      "Gaps to simplify in region 31: 100%|████████| 1187/1187 [00:33<00:00, 35.30it/s]\n",
      "Gaps to fill in region 31: 100%|████████████████| 10/10 [00:00<00:00, 26.68it/s]\n",
      "Gaps to simplify in region 32: 100%|██████████| 174/174 [00:02<00:00, 62.10it/s]\n",
      "Gaps to fill in region 32: 100%|██████████████████| 6/6 [00:00<00:00, 26.32it/s]\n"
     ]
    }
   ],
   "source": [
    "vest_base = add_vest_base(vest_base_data, start_col, year, county = county_df)"
   ]
  },
  {
   "cell_type": "code",
   "execution_count": 29,
   "metadata": {},
   "outputs": [
    {
     "name": "stdout",
     "output_type": "stream",
     "text": [
      "[0.0, 0.0, 0.0, 0.0, 0.0, 0.0, 0.0, 0.0, 0.0, 0.0, 0.0, 0.0, 0.0, 0.0, 0.0, 0.0, 0.0, 0.0, 0.0, 0.0, 0.0, 0.0, 0.0, 0.0, 0.0, 0.0, 0.0, 0.0, 0.0, 0.0, 0.0, 0.0, 0.0, 0.0, 0.0, 0.0, 0.0, 0.0, 0.0, 0.0, 0.0, 0.0, 0.0, 0.0, 0.0, 0.0, 0.0, 0.0, 0.0, 0.0, 0.0, 0.0, 0.0, 0.0, 0.0, 0.0, 0.0, 0.0, 0.0, 0.0, 0.0, 0.0, 0.0, 0.0, 0.0, 0.0, 0.0, 0.0, 0.0, 0.0, 0.0, 0.0, 0.0, 0.0, 0.0, 0.0, 0.0, 0.0, 0.0, 0.0, 0.0, 0.0, 0.0, 0.0, 0.0, 0.0, 0.0, 0.0, 0.0, 0.0, 0.0, 0.0, 0.0, 0.0, 0.0, 0.0, 0.0, 0.0, 0.0, 0.0, 0.0, 0.0, 0.0, 0.0, 0.0, 0.0, 0.0, 0.0, 0.0, 0.0, 0.0, 0.0, 0.0, 0.0, 0.0, 0.0, 0.0, 0.0, 0.0, 0.0, 0.0, 0.0, 0.0, 0.0, 0.0, 0.0, 0.0, 0.0, 0.0, 0.0, 0.0, 0.0, 0.0, 0.0, 0.0, 0.0, 0.0, 0.0, 0.0, 0.0, 0.0, 0.0, 0.0, 0.0, 0.0, 0.0, 0.0, 0.0, 0.0, 0.0, 0.0, 0.0, 0.0, 0.0, 0.0, 0.0, 0.0, 0.0, 0.0, 0.0, 0.0, 0.0, 0.0, 0.0, 0.0, 0.0, 0.0, 0.0, 0.0, 0.0, 0.0, 0.0, 0.0, 0.0, 0.0, 0.0, 0.0, 0.0, 0.0, 0.0, 0.0, 0.0, 0.0, 0.0, 0.0, 0.0, 0.0, 0.0, 0.0, 0.0, 0.0, 0.0, 0.0, 0.0, 0.0, 0.0, 0.0, 0.0, 0.0, 0.0, 0.0, 0.0, 0.0, 0.0, 0.0, 0.0, 0.0, 0.0, 0.0, 0.0, 0.0, 0.0, 0.0, 0.0, 0.0, 0.0, 0.0, 0.0, 0.0, 0.0, 0.0, 0.0, 0.0, 0.0, 0.0, 0.0, 0.0, 0.0, 0.0, 0.0, 0.0, 0.0, 0.0, 0.0, 0.0, 0.0, 0.0, 0.0, 0.0, 0.0, 0.0, 0.0, 0.0, 0.0, 0.0, 0.0, 0.0, 0.0, 0.0, 0.0, 0.0, 0.0, 0.0, 0.0, 0.0, 0.0, 0.0, 0.0, 0.0, 0.0, 0.0, 0.0, 0.0, 0.0, 0.0, 0.0, 0.0, 0.0, 0.0, 0.0, 0.0, 0.0, 0.0, 0.0, 0.0, 0.0, 0.0, 0.0, 0.0, 0.0, 0.0, 0.0, 0.0, 0.0, 0.0, 0.0, 0.0, 0.0, 0.0, 0.0, 0.0, 0.0, 0.0, 0.0, 0.0, 0.0, 0.0, 0.0, 0.0, 0.0, 0.0, 0.0, 0.0, 0.0, 0.0, 0.0, 0.0, 0.0, 0.0, 0.0, 0.0, 0.0, 0.0, 0.0, 0.0, 0.0, 0.0, 0.0, 0.0, 0.0, 0.0, 0.0, 0.0, 0.0, 0.0, 0.0, 0.0, 0.0, 0.0, 0.0, 0.0, 0.0, 0.0, 0.0, 0.0, 0.0, 0.0, 0.0, 0.0, 0.0, 0.0, 0.0, 0.0, 0.0, 0.0, 0.0, 0.0, 0.0, 0.0, 0.0, 0.0, 0.0, 0.0, 0.0, 0.0, 0.0, 0.0, 0.0, 0.0, 0.0, 0.0, 0.0, 0.0, 0.0, 0.0, 0.0, 0.0, 0.0, 0.0, 0.0, 0.0, 0.0, 0.0, 0.0, 0.0, 0.0, 0.0, 0.0, 0.0, 0.0, 0.0, 0.0, 0.0, 0.0, 0.0, 0.0, 0.0, 0.0, 0.0, 0.0, 0.0, 0.0, 0.0, 0.0, 0.0, 0.0, 0.0, 0.0, 0.0, 0.0, 0.0, 0.0, 0.0, 0.0, 0.0, 0.0, 0.0, 0.0, 0.0, 0.0, 0.0, 0.0, 0.0, 0.0, 0.0, 0.0, 0.0, 0.0, 0.0, 0.0, 0.0, 0.0, 0.0, 0.0, 0.0, 0.0, 0.0, 0.0, 0.0, 0.0, 0.0, 0.0, 0.0, 0.0, 0.0, 0.0, 0.0, 0.0, 0.0, 0.0, 0.0, 0.0, 0.0, 0.0, 0.0, 0.0, 0.0, 0.0, 0.0, 0.0, 0.0, 0.0, 0.0, 0.0, 0.0, 0.0, 0.0, 0.0, 0.0, 0.0, 0.0, 0.0, 0.0, 0.0, 0.0, 0.0, 0.0, 0.0, 0.0, 0.0, 0.0, 0.0, 0.0, 0.0, 0.0, 0.0, 0.0, 0.0, 0.0, 0.0, 0.0, 0.0, 0.0, 0.0, 0.0, 0.0, 0.0, 0.0, 0.0, 0.0, 0.0, 0.0, 0.0, 0.0, 0.0, 0.0, 0.0, 0.0, 0.0, 0.0, 0.0, 0.0, 0.0, 0.0, 0.0, 0.0, 0.0, 0.0, 0.0, 0.0, 0.0, 0.0, 0.0, 0.0, 0.0, 0.0, 0.0, 0.0, 0.0, 0.0, 0.0, 0.0, 0.0, 0.0, 0.0, 0.0, 0.0, 0.0, 0.0, 0.0, 0.0, 0.0, 0.0, 0.0, 0.0, 0.0, 0.0, 0.0, 0.0, 0.0, 0.0, 0.0, 0.0, 0.0, 0.0, 0.0, 0.0, 0.0, 0.0, 0.0, 0.0, 0.0, 0.0, 0.0, 1.6163851180871233e-05, 1.6163851180871233e-05, 2.2592501216261664e-05, 2.2592501216261664e-05, 2.5795814979290995e-05, 2.5795814979290995e-05, 4.150386082048072e-05, 4.150386082048072e-05, 6.584484627026242e-05, 6.584484627026242e-05, 1.464036330765606, 1.464036330765606, 1.8847528971965792, 1.8847528971965792, 2.8234912228026925, 2.8234912228026925, 3.228340487486922, 3.228340487486922, 5.26113121149738, 5.26113121149738, 5.410779160353798, 5.410779160353798, 5.460933027982757, 5.460933027982757, 5.849058594444747, 5.849058594444747, 6.440938441686603, 6.440938441686603, 6.770087486528693, 6.770087486528693, 7.520962206118214, 7.520962206118214, 8.276436678905151, 8.276436678905151, 8.369386818531495, 8.369386818531495, 8.428121251688182, 8.428121251688182, 11.206497488612094, 11.206497488612094, 13.035969163765744, 13.035969163765744, 15.45995119528721, 15.45995119528721, 16.386461123081748, 16.386461123081748, 18.116490175189078, 18.116490175189078, 20.154873373156878, 20.154873373156878, 21.629783241817783, 21.629783241817783, 22.39907511072454, 22.39907511072454, 22.890337818951146, 22.890337818951146, 23.485596313150797, 23.485596313150797, 23.680285007503016, 23.680285007503016, 25.527317596673754, 25.527317596673754, 27.61123415029523, 27.61123415029523, 27.759133970728673, 27.759133970728673, 29.731173009141724, 29.731173009141724, 30.490385327095957, 30.490385327095957, 34.756287941006526, 34.756287941006526, 36.92522125874249, 36.92522125874249, 37.63503122186696, 37.63503122186696, 40.24566181844947, 40.24566181844947, 41.702267159870615, 41.702267159870615, 43.536625184065855, 43.53662518406586, 44.149416889138344, 44.149416889138344, 45.730279938688305, 45.73027993868831, 47.627204033615406, 47.627204033615406, 50.49258363662662, 50.49258363662662, 51.99654879248848, 51.99654879248849, 52.13256241467512, 52.13256241467512, 55.27009517084905, 55.27009517084905, 55.67170871683603, 55.67170871683603, 55.81081566860493, 55.81081566860493, 56.174013799031584, 56.174013799031584, 56.2247598919363, 56.2247598919363, 56.277790880055264, 56.277790880055264, 56.49969969879325, 56.49969969879325, 57.65325029839583, 57.65325029839583, 59.1905270829905, 59.1905270829905, 60.05913311607829, 60.05913311607829, 62.39674097132446, 62.39674097132446, 64.33748445423896, 64.33748445423896, 64.4153252826331, 64.4153252826331, 65.81100892337133, 65.81100892337133, 66.58743824187954, 66.58743824187954, 66.76083359102442, 66.76083359102442, 67.90393332149769, 67.90393332149769, 68.29872410558848, 68.29872410558848, 70.30533359965978, 70.30533359965978, 71.09274568416569, 71.09274568416569, 71.69056467649914, 71.69056467649914, 72.2187684478833, 72.2187684478833, 72.75182246457294, 72.75182246457295, 73.6852451800227, 73.6852451800227, 74.32431790329541, 74.32431790329541, 74.57528075813757, 74.57528075813757, 75.6333957077852, 75.6333957077852, 80.911297500388, 80.91129750038802, 80.92852997183613, 80.92852997183613, 81.50855817448887, 81.50855817448887, 83.69686235654126, 83.69686235654126, 84.9743454204692, 84.97434542046922, 84.99370406665359, 84.99370406665359, 85.59523148357921, 85.59523148357921, 85.93478071679147, 85.93478071679147, 86.8858889726434, 86.8858889726434, 87.30638691323715, 87.30638691323716, 88.40540011374736, 88.40540011374736, 88.6000882385602, 88.6000882385602, 88.76323565938348, 88.7632356593835, 89.39527435075473, 89.39527435075473, 90.5894429783893, 90.5894429783893, 91.22906383003603, 91.22906383003603, 91.33257453584996, 91.33257453584996, 92.45245458429413, 92.45245458429413, 92.46696335500394, 92.46696335500395, 93.08487147472701, 93.08487147472701, 93.11160387677971, 93.11160387677972, 94.01445234202437, 94.01445234202437, 94.18710109693363, 94.18710109693363, 95.0218259240535, 95.0218259240535, 95.38802123813821, 95.38802123813821, 96.27964612159182, 96.27964612159182, 97.65590882286021, 97.65590882286021, 99.39139928705288, 99.39139928705288, 99.43037590659779, 99.43037590659779, 99.72323953877584, 99.72323953877584, 100.7003985840356, 100.7003985840356, 101.10960872331704, 101.10960872331704, 101.22810802256649, 101.22810802256649, 102.00137292272518, 102.00137292272518, 102.0663591477714, 102.06635914777141, 103.0354933373786, 103.0354933373786, 103.21419142137496, 103.21419142137496, 104.45526597663003, 104.45526597663003, 105.62447659525365, 105.62447659525365, 106.43063033849187, 106.43063033849188, 106.819602865141, 106.819602865141, 107.75923911992072, 107.75923911992072, 110.82067090314759, 110.82067090314759, 111.10555310796782, 111.10555310796782, 113.22324602604007, 113.22324602604009, 113.237765930809, 113.237765930809, 113.49976646159035, 113.49976646159037, 114.19129334674504, 114.19129334674504, 114.69826138417937, 114.69826138417937]\n"
     ]
    }
   ],
   "source": [
    "borders = check_small_boundary_lengths(vest_base)\n",
    "print(borders[800:1600])"
   ]
  },
  {
   "cell_type": "code",
   "execution_count": 30,
   "metadata": {},
   "outputs": [
    {
     "name": "stdout",
     "output_type": "stream",
     "text": [
      "Snapping all geometries to a grid with precision 10^( -5 ) to avoid GEOS errors.\n",
      "Identifying overlaps...\n"
     ]
    },
    {
     "name": "stderr",
     "output_type": "stream",
     "text": [
      "100%|█████████████████████████████████████| 1917/1917 [00:00<00:00, 3465.27it/s]\n"
     ]
    },
    {
     "name": "stdout",
     "output_type": "stream",
     "text": [
      "Resolving overlaps...\n",
      "Filling gaps...\n"
     ]
    },
    {
     "name": "stderr",
     "output_type": "stream",
     "text": [
      "Gaps to simplify: 0it [00:00, ?it/s]\n",
      "Gaps to fill: 0it [00:00, ?it/s]\n"
     ]
    },
    {
     "name": "stdout",
     "output_type": "stream",
     "text": [
      "Converting small rook adjacencies to queen...\n"
     ]
    },
    {
     "name": "stderr",
     "output_type": "stream",
     "text": [
      "100%|██████████████████████████████████████| 1917/1917 [00:02<00:00, 898.27it/s]\n",
      "100%|███████████████████████████████████████████| 4/4 [00:00<00:00, 3610.33it/s]\n",
      "100%|███████████████████████████████████████████| 4/4 [00:00<00:00, 3375.70it/s]\n",
      "100%|███████████████████████████████████████████| 4/4 [00:00<00:00, 3207.88it/s]\n",
      "100%|███████████████████████████████████████████| 4/4 [00:00<00:00, 3505.48it/s]\n",
      "100%|███████████████████████████████████████████| 4/4 [00:00<00:00, 3412.78it/s]\n",
      "100%|███████████████████████████████████████████| 4/4 [00:00<00:00, 3141.80it/s]\n",
      "100%|███████████████████████████████████████████| 4/4 [00:00<00:00, 2881.69it/s]\n",
      "100%|███████████████████████████████████████████| 5/5 [00:00<00:00, 3867.14it/s]\n",
      "100%|███████████████████████████████████████████| 4/4 [00:00<00:00, 3991.72it/s]\n",
      "100%|███████████████████████████████████████████| 6/6 [00:00<00:00, 4367.55it/s]\n",
      "100%|███████████████████████████████████████████| 4/4 [00:00<00:00, 3398.26it/s]\n",
      "100%|███████████████████████████████████████████| 4/4 [00:00<00:00, 3212.80it/s]\n",
      "100%|███████████████████████████████████████████| 4/4 [00:00<00:00, 3463.50it/s]\n",
      "100%|███████████████████████████████████████████| 4/4 [00:00<00:00, 3330.13it/s]\n",
      "100%|███████████████████████████████████████████| 4/4 [00:00<00:00, 3552.99it/s]\n",
      "100%|███████████████████████████████████████████| 4/4 [00:00<00:00, 2973.63it/s]\n",
      "100%|███████████████████████████████████████████| 6/6 [00:00<00:00, 3634.05it/s]\n",
      "100%|███████████████████████████████████████████| 5/5 [00:00<00:00, 3398.95it/s]\n",
      "100%|███████████████████████████████████████████| 4/4 [00:00<00:00, 3474.98it/s]\n",
      "100%|███████████████████████████████████████████| 4/4 [00:00<00:00, 3273.60it/s]\n",
      "100%|███████████████████████████████████████████| 5/5 [00:00<00:00, 3494.09it/s]\n",
      "100%|███████████████████████████████████████████| 4/4 [00:00<00:00, 3448.55it/s]\n",
      "100%|███████████████████████████████████████████| 5/5 [00:00<00:00, 3566.59it/s]\n",
      "100%|███████████████████████████████████████████| 4/4 [00:00<00:00, 3334.10it/s]\n",
      "100%|███████████████████████████████████████████| 4/4 [00:00<00:00, 3539.50it/s]\n",
      "100%|███████████████████████████████████████████| 4/4 [00:00<00:00, 3624.37it/s]\n",
      "100%|███████████████████████████████████████████| 4/4 [00:00<00:00, 3327.49it/s]\n",
      "100%|███████████████████████████████████████████| 4/4 [00:00<00:00, 2614.50it/s]\n",
      "100%|███████████████████████████████████████████| 4/4 [00:00<00:00, 3278.72it/s]\n",
      "100%|███████████████████████████████████████████| 4/4 [00:00<00:00, 3305.86it/s]\n",
      "100%|███████████████████████████████████████████| 5/5 [00:00<00:00, 3488.86it/s]\n",
      "100%|███████████████████████████████████████████| 4/4 [00:00<00:00, 2965.22it/s]\n",
      "100%|███████████████████████████████████████████| 4/4 [00:00<00:00, 3386.60it/s]\n",
      "100%|███████████████████████████████████████████| 4/4 [00:00<00:00, 3383.87it/s]\n",
      "100%|███████████████████████████████████████████| 4/4 [00:00<00:00, 3202.37it/s]\n",
      "100%|██████████████████████████████████████| 1917/1917 [00:02<00:00, 860.40it/s]\n"
     ]
    }
   ],
   "source": [
    "vest_base = do_smart_repair(vest_base, min_rook_length = 30.5)"
   ]
  },
  {
   "cell_type": "code",
   "execution_count": 31,
   "metadata": {},
   "outputs": [
    {
     "name": "stderr",
     "output_type": "stream",
     "text": [
      "100%|██████████████████████████████████████| 1917/1917 [00:02<00:00, 906.12it/s]\n"
     ]
    },
    {
     "data": {
      "text/plain": [
       "True"
      ]
     },
     "execution_count": 31,
     "metadata": {},
     "output_type": "execute_result"
    }
   ],
   "source": [
    "maup.doctor(vest_base)"
   ]
  },
  {
   "cell_type": "code",
   "execution_count": 32,
   "metadata": {},
   "outputs": [
    {
     "name": "stderr",
     "output_type": "stream",
     "text": [
      "100%|██████████████████████████████████████| 1917/1917 [00:01<00:00, 997.17it/s]\n",
      "100%|██████████████████████████████████████| 1917/1917 [00:11<00:00, 166.53it/s]\n"
     ]
    }
   ],
   "source": [
    "# vap and population have the same GEOID20\n",
    "blocks_to_precincts_assignment = maup.assign(population_df.geometry, vest_base.geometry)"
   ]
  },
  {
   "cell_type": "code",
   "execution_count": 33,
   "metadata": {},
   "outputs": [],
   "source": [
    "vest_base[pop_col] = population_df[pop_col].groupby(blocks_to_precincts_assignment).sum()"
   ]
  },
  {
   "cell_type": "code",
   "execution_count": 34,
   "metadata": {},
   "outputs": [],
   "source": [
    "election_df = gpd.GeoDataFrame(vest_base)"
   ]
  },
  {
   "cell_type": "code",
   "execution_count": 35,
   "metadata": {},
   "outputs": [
    {
     "data": {
      "text/plain": [
       "Index(['COUNTYFP', 'COUNTYNAME', 'NAME', 'PRE20D', 'PRE20O', 'PRE20R',\n",
       "       'SAC20D', 'SAC20O', 'SAC20R', 'SSC20D', 'SSC20R', 'STATEFP', 'USS20D',\n",
       "       'USS20O', 'USS20R', 'VTDST', 'geometry', 'TOTPOP', 'HISP', 'NH_WHITE',\n",
       "       'NH_BLACK', 'NH_AMIN', 'NH_ASIAN', 'NH_NHPI', 'NH_OTHER', 'NH_2MORE',\n",
       "       'H_WHITE', 'H_BLACK', 'H_AMIN', 'H_ASIAN', 'H_NHPI', 'H_OTHER',\n",
       "       'H_2MORE', 'VAP', 'HVAP', 'WVAP', 'BVAP', 'AMINVAP', 'ASIANVAP',\n",
       "       'NHPIVAP', 'OTHERVAP', '2MOREVAP'],\n",
       "      dtype='object')"
      ]
     },
     "execution_count": 35,
     "metadata": {},
     "output_type": "execute_result"
    }
   ],
   "source": [
    "election_df.columns"
   ]
  },
  {
   "cell_type": "markdown",
   "metadata": {},
   "source": [
    "## Check if population agrees"
   ]
  },
  {
   "cell_type": "code",
   "execution_count": 37,
   "metadata": {},
   "outputs": [
    {
     "name": "stdout",
     "output_type": "stream",
     "text": [
      "population agrees\n"
     ]
    }
   ],
   "source": [
    "check_population(population_df, vest_base)"
   ]
  },
  {
   "cell_type": "markdown",
   "metadata": {},
   "source": [
    "## Add more vest data"
   ]
  },
  {
   "cell_type": "code",
   "execution_count": 39,
   "metadata": {},
   "outputs": [],
   "source": [
    "vest18 = gpd.read_file(vest18_data)\n",
    "vest16 = gpd.read_file(vest16_data)"
   ]
  },
  {
   "cell_type": "code",
   "execution_count": 40,
   "metadata": {},
   "outputs": [
    {
     "data": {
      "text/plain": [
       "Index(['STATEFP', 'COUNTYFP', 'COUNTYNAME', 'VTDST', 'NAME', 'G18USSDHEI',\n",
       "       'G18USSRRIC', 'G18USSLJOH', 'G18GOVDLUJ', 'G18GOVRPEA', 'G18ATGDBAL',\n",
       "       'G18ATGRHEN', 'G18ATGLDUN', 'G18SOSDTOU', 'G18SOSRCLA', 'G18SOSLGRI',\n",
       "       'G18TREDEIC', 'G18TRERCAS', 'G18AUDDCOL', 'G18AUDRJOH', 'G18LNDDGAR',\n",
       "       'G18LNDRLYO', 'G18LNDLLUC', 'G18SSCDVIG', 'G18SSCRCLI', 'G18SACDBOG',\n",
       "       'G18SACRFRE', 'G18SACDMED', 'G18SACRBOH', 'G18SACDZAM', 'G18SACRKIE',\n",
       "       'G18SACDDUF', 'G18SACRGAL', 'G18SACDATT', 'geometry'],\n",
       "      dtype='object')"
      ]
     },
     "execution_count": 40,
     "metadata": {},
     "output_type": "execute_result"
    }
   ],
   "source": [
    "vest18.columns"
   ]
  },
  {
   "cell_type": "code",
   "execution_count": 41,
   "metadata": {},
   "outputs": [
    {
     "data": {
      "text/plain": [
       "Index(['STATEFP', 'COUNTYFP', 'COUNTYNAME', 'VTDST', 'NAME', 'G16PREDCLI',\n",
       "       'G16PRERTRU', 'G16PRELJOH', 'G16PREGSTE', 'G16PREIMCM', 'G16PRECCAS',\n",
       "       'G16PRESLAR', 'G16PREAROC', 'G16SOSDOLI', 'G16SOSRESP', 'G16SSCDVIG',\n",
       "       'G16SSCRNAK', 'G16SACDVAR', 'G16SACRFRE', 'geometry'],\n",
       "      dtype='object')"
      ]
     },
     "execution_count": 41,
     "metadata": {},
     "output_type": "execute_result"
    }
   ],
   "source": [
    "vest16.columns"
   ]
  },
  {
   "cell_type": "code",
   "execution_count": 42,
   "metadata": {},
   "outputs": [
    {
     "name": "stderr",
     "output_type": "stream",
     "text": [
      "100%|██████████████████████████████████████| 1492/1492 [00:01<00:00, 779.61it/s]\n",
      "100%|██████████████████████████████████████| 1492/1492 [00:01<00:00, 826.82it/s]\n",
      "100%|██████████████████████████████████████| 1492/1492 [00:06<00:00, 214.72it/s]\n",
      "100%|██████████████████████████████████████| 1917/1917 [00:01<00:00, 960.88it/s]\n",
      "100%|██████████████████████████████████████| 1917/1917 [00:11<00:00, 172.21it/s]\n"
     ]
    },
    {
     "name": "stdout",
     "output_type": "stream",
     "text": [
      "population agrees\n"
     ]
    }
   ],
   "source": [
    "# check the result here\n",
    "election_df = add_vest(vest18, election_df, '18', population_df, start_col)"
   ]
  },
  {
   "cell_type": "code",
   "execution_count": 43,
   "metadata": {},
   "outputs": [
    {
     "data": {
      "text/plain": [
       "Index(['2MOREVAP', 'AMINVAP', 'ASIANVAP', 'ATG18D', 'ATG18O', 'ATG18R',\n",
       "       'AUD18D', 'AUD18R', 'BVAP', 'COUNTYFP', 'COUNTYNAME', 'GOV18D',\n",
       "       'GOV18R', 'HISP', 'HVAP', 'H_2MORE', 'H_AMIN', 'H_ASIAN', 'H_BLACK',\n",
       "       'H_NHPI', 'H_OTHER', 'H_WHITE', 'LND18D', 'LND18O', 'LND18R', 'NAME',\n",
       "       'NHPIVAP', 'NH_2MORE', 'NH_AMIN', 'NH_ASIAN', 'NH_BLACK', 'NH_NHPI',\n",
       "       'NH_OTHER', 'NH_WHITE', 'OTHERVAP', 'PRE20D', 'PRE20O', 'PRE20R',\n",
       "       'SAC18D', 'SAC18R', 'SAC20D', 'SAC20O', 'SAC20R', 'SOS18D', 'SOS18O',\n",
       "       'SOS18R', 'SSC18D', 'SSC18R', 'SSC20D', 'SSC20R', 'STATEFP', 'TOTPOP',\n",
       "       'TRE18D', 'TRE18R', 'USS18D', 'USS18O', 'USS18R', 'USS20D', 'USS20O',\n",
       "       'USS20R', 'VAP', 'VTDST', 'WVAP', 'geometry'],\n",
       "      dtype='object')"
      ]
     },
     "execution_count": 43,
     "metadata": {},
     "output_type": "execute_result"
    }
   ],
   "source": [
    "election_df.columns"
   ]
  },
  {
   "cell_type": "code",
   "execution_count": 44,
   "metadata": {},
   "outputs": [
    {
     "name": "stderr",
     "output_type": "stream",
     "text": [
      "100%|██████████████████████████████████████| 1492/1492 [00:01<00:00, 801.44it/s]\n",
      "100%|██████████████████████████████████████| 1492/1492 [00:01<00:00, 820.86it/s]\n",
      "100%|██████████████████████████████████████| 1492/1492 [00:06<00:00, 217.00it/s]\n",
      "100%|██████████████████████████████████████| 1917/1917 [00:01<00:00, 991.86it/s]\n",
      "100%|██████████████████████████████████████| 1917/1917 [00:11<00:00, 169.61it/s]\n"
     ]
    },
    {
     "name": "stdout",
     "output_type": "stream",
     "text": [
      "population agrees\n"
     ]
    }
   ],
   "source": [
    "election_df = add_vest(vest16, election_df, '16', population_df, start_col)"
   ]
  },
  {
   "cell_type": "markdown",
   "metadata": {},
   "source": [
    "##  Add the district data"
   ]
  },
  {
   "cell_type": "code",
   "execution_count": 46,
   "metadata": {},
   "outputs": [],
   "source": [
    "cong_df = gpd.read_file(cd_data)\n",
    "cong_df = cong_df.to_crs(cong_df.estimate_utm_crs())\n",
    "send = gpd.read_file(send_data)\n",
    "send = send.to_crs(send.estimate_utm_crs())\n",
    "hdist = gpd.read_file(hdist_data)\n",
    "hdist = hdist.to_crs(hdist.estimate_utm_crs())"
   ]
  },
  {
   "cell_type": "code",
   "execution_count": 47,
   "metadata": {},
   "outputs": [
    {
     "data": {
      "text/html": [
       "<div>\n",
       "<style scoped>\n",
       "    .dataframe tbody tr th:only-of-type {\n",
       "        vertical-align: middle;\n",
       "    }\n",
       "\n",
       "    .dataframe tbody tr th {\n",
       "        vertical-align: top;\n",
       "    }\n",
       "\n",
       "    .dataframe thead th {\n",
       "        text-align: right;\n",
       "    }\n",
       "</style>\n",
       "<table border=\"1\" class=\"dataframe\">\n",
       "  <thead>\n",
       "    <tr style=\"text-align: right;\">\n",
       "      <th></th>\n",
       "      <th>ID</th>\n",
       "      <th>AREA</th>\n",
       "      <th>DISTRICT</th>\n",
       "      <th>MEMBERS</th>\n",
       "      <th>LOCKED</th>\n",
       "      <th>NAME</th>\n",
       "      <th>POPULATION</th>\n",
       "      <th>F18_POP</th>\n",
       "      <th>H18_POP</th>\n",
       "      <th>F18_AP_IND</th>\n",
       "      <th>...</th>\n",
       "      <th>F_NOT_HISP</th>\n",
       "      <th>F_AMINDIAN</th>\n",
       "      <th>F_INGRP_CO</th>\n",
       "      <th>F_DPERFPRE</th>\n",
       "      <th>F_RPERFPRE</th>\n",
       "      <th>F_REGDEM</th>\n",
       "      <th>F_REGREP</th>\n",
       "      <th>F_REGDTSOT</th>\n",
       "      <th>DISTRICT_L</th>\n",
       "      <th>geometry</th>\n",
       "    </tr>\n",
       "  </thead>\n",
       "  <tbody>\n",
       "    <tr>\n",
       "      <th>0</th>\n",
       "      <td>1</td>\n",
       "      <td>17593.5566</td>\n",
       "      <td>1</td>\n",
       "      <td>1.0</td>\n",
       "      <td>None</td>\n",
       "      <td>None</td>\n",
       "      <td>705832</td>\n",
       "      <td>564033</td>\n",
       "      <td>212166</td>\n",
       "      <td>40712</td>\n",
       "      <td>...</td>\n",
       "      <td>0.591060</td>\n",
       "      <td>0.051715</td>\n",
       "      <td>0.001724</td>\n",
       "      <td>0.526240</td>\n",
       "      <td>0.473760</td>\n",
       "      <td>0.431928</td>\n",
       "      <td>0.320938</td>\n",
       "      <td>0.247134</td>\n",
       "      <td>1|-0%</td>\n",
       "      <td>POLYGON ((413353.455 3694900.349, 413340.806 3...</td>\n",
       "    </tr>\n",
       "    <tr>\n",
       "      <th>1</th>\n",
       "      <td>2</td>\n",
       "      <td>51577.2304</td>\n",
       "      <td>2</td>\n",
       "      <td>1.0</td>\n",
       "      <td>None</td>\n",
       "      <td>None</td>\n",
       "      <td>705846</td>\n",
       "      <td>534358</td>\n",
       "      <td>299999</td>\n",
       "      <td>42357</td>\n",
       "      <td>...</td>\n",
       "      <td>0.400674</td>\n",
       "      <td>0.061766</td>\n",
       "      <td>0.011155</td>\n",
       "      <td>0.529440</td>\n",
       "      <td>0.470560</td>\n",
       "      <td>0.438271</td>\n",
       "      <td>0.305212</td>\n",
       "      <td>0.256517</td>\n",
       "      <td>2|0%</td>\n",
       "      <td>POLYGON ((130509.570 3876069.871, 130510.245 3...</td>\n",
       "    </tr>\n",
       "    <tr>\n",
       "      <th>2</th>\n",
       "      <td>3</td>\n",
       "      <td>52445.4687</td>\n",
       "      <td>3</td>\n",
       "      <td>1.0</td>\n",
       "      <td>None</td>\n",
       "      <td>None</td>\n",
       "      <td>705844</td>\n",
       "      <td>540598</td>\n",
       "      <td>214599</td>\n",
       "      <td>105408</td>\n",
       "      <td>...</td>\n",
       "      <td>0.576201</td>\n",
       "      <td>0.187211</td>\n",
       "      <td>0.008098</td>\n",
       "      <td>0.549884</td>\n",
       "      <td>0.450116</td>\n",
       "      <td>0.476484</td>\n",
       "      <td>0.300534</td>\n",
       "      <td>0.222982</td>\n",
       "      <td>3|0%</td>\n",
       "      <td>POLYGON ((184569.073 3911750.095, 184565.441 3...</td>\n",
       "    </tr>\n",
       "  </tbody>\n",
       "</table>\n",
       "<p>3 rows × 80 columns</p>\n",
       "</div>"
      ],
      "text/plain": [
       "   ID        AREA DISTRICT  MEMBERS LOCKED  NAME  POPULATION  F18_POP  \\\n",
       "0   1  17593.5566        1      1.0   None  None      705832   564033   \n",
       "1   2  51577.2304        2      1.0   None  None      705846   534358   \n",
       "2   3  52445.4687        3      1.0   None  None      705844   540598   \n",
       "\n",
       "   H18_POP  F18_AP_IND  ...  F_NOT_HISP  F_AMINDIAN  F_INGRP_CO  F_DPERFPRE  \\\n",
       "0   212166       40712  ...    0.591060    0.051715    0.001724    0.526240   \n",
       "1   299999       42357  ...    0.400674    0.061766    0.011155    0.529440   \n",
       "2   214599      105408  ...    0.576201    0.187211    0.008098    0.549884   \n",
       "\n",
       "   F_RPERFPRE  F_REGDEM  F_REGREP  F_REGDTSOT  DISTRICT_L  \\\n",
       "0    0.473760  0.431928  0.320938    0.247134       1|-0%   \n",
       "1    0.470560  0.438271  0.305212    0.256517        2|0%   \n",
       "2    0.450116  0.476484  0.300534    0.222982        3|0%   \n",
       "\n",
       "                                            geometry  \n",
       "0  POLYGON ((413353.455 3694900.349, 413340.806 3...  \n",
       "1  POLYGON ((130509.570 3876069.871, 130510.245 3...  \n",
       "2  POLYGON ((184569.073 3911750.095, 184565.441 3...  \n",
       "\n",
       "[3 rows x 80 columns]"
      ]
     },
     "execution_count": 47,
     "metadata": {},
     "output_type": "execute_result"
    }
   ],
   "source": [
    "cong_df.head()"
   ]
  },
  {
   "cell_type": "code",
   "execution_count": 48,
   "metadata": {},
   "outputs": [
    {
     "name": "stderr",
     "output_type": "stream",
     "text": [
      "100%|█████████████████████████████████████████████| 3/3 [00:00<00:00, 90.56it/s]\n",
      "100%|█████████████████████████████████████████████| 3/3 [00:00<00:00, 73.91it/s]\n",
      "100%|█████████████████████████████████████████████| 3/3 [00:00<00:00,  9.14it/s]\n"
     ]
    }
   ],
   "source": [
    "election_df = add_district(cong_df, \"CD\", election_df, \"DISTRICT\")"
   ]
  },
  {
   "cell_type": "code",
   "execution_count": 49,
   "metadata": {},
   "outputs": [
    {
     "data": {
      "text/html": [
       "<div>\n",
       "<style scoped>\n",
       "    .dataframe tbody tr th:only-of-type {\n",
       "        vertical-align: middle;\n",
       "    }\n",
       "\n",
       "    .dataframe tbody tr th {\n",
       "        vertical-align: top;\n",
       "    }\n",
       "\n",
       "    .dataframe thead th {\n",
       "        text-align: right;\n",
       "    }\n",
       "</style>\n",
       "<table border=\"1\" class=\"dataframe\">\n",
       "  <thead>\n",
       "    <tr style=\"text-align: right;\">\n",
       "      <th></th>\n",
       "      <th>ID</th>\n",
       "      <th>AREA</th>\n",
       "      <th>DISTRICT</th>\n",
       "      <th>MEMBERS</th>\n",
       "      <th>LOCKED</th>\n",
       "      <th>NAME</th>\n",
       "      <th>POPULATION</th>\n",
       "      <th>F18_POP</th>\n",
       "      <th>H18_POP</th>\n",
       "      <th>F18_AP_IND</th>\n",
       "      <th>...</th>\n",
       "      <th>FORMULA_F6</th>\n",
       "      <th>POLSBY_PO5</th>\n",
       "      <th>POLSBY_PO6</th>\n",
       "      <th>POLSBY_PO7</th>\n",
       "      <th>POLSBY_PO8</th>\n",
       "      <th>POLSBY_PO9</th>\n",
       "      <th>POLSBY_P10</th>\n",
       "      <th>REOCK</th>\n",
       "      <th>DISTRICT_L</th>\n",
       "      <th>geometry</th>\n",
       "    </tr>\n",
       "  </thead>\n",
       "  <tbody>\n",
       "    <tr>\n",
       "      <th>0</th>\n",
       "      <td>1</td>\n",
       "      <td>166.459534</td>\n",
       "      <td>1</td>\n",
       "      <td>1.0</td>\n",
       "      <td>None</td>\n",
       "      <td>None</td>\n",
       "      <td>47068</td>\n",
       "      <td>34250</td>\n",
       "      <td>6269</td>\n",
       "      <td>13412</td>\n",
       "      <td>...</td>\n",
       "      <td>1|-6.64%|D:31.3%</td>\n",
       "      <td>0.243865</td>\n",
       "      <td>0.243865</td>\n",
       "      <td>0.243865</td>\n",
       "      <td>0.243865</td>\n",
       "      <td>0.243865</td>\n",
       "      <td>0.243865</td>\n",
       "      <td>0.293581</td>\n",
       "      <td>1|-6.64%</td>\n",
       "      <td>POLYGON ((213517.219 4074327.665, 213527.755 4...</td>\n",
       "    </tr>\n",
       "    <tr>\n",
       "      <th>1</th>\n",
       "      <td>2</td>\n",
       "      <td>29.514738</td>\n",
       "      <td>10</td>\n",
       "      <td>1.0</td>\n",
       "      <td>None</td>\n",
       "      <td>None</td>\n",
       "      <td>48840</td>\n",
       "      <td>39621</td>\n",
       "      <td>17878</td>\n",
       "      <td>2518</td>\n",
       "      <td>...</td>\n",
       "      <td>10|-3.13%|D:60.2%</td>\n",
       "      <td>0.189475</td>\n",
       "      <td>0.189475</td>\n",
       "      <td>0.189475</td>\n",
       "      <td>0.189475</td>\n",
       "      <td>0.189475</td>\n",
       "      <td>0.189475</td>\n",
       "      <td>0.297863</td>\n",
       "      <td>10|-3.13%</td>\n",
       "      <td>POLYGON ((346206.260 3889203.014, 346222.373 3...</td>\n",
       "    </tr>\n",
       "    <tr>\n",
       "      <th>2</th>\n",
       "      <td>3</td>\n",
       "      <td>10.856782</td>\n",
       "      <td>11</td>\n",
       "      <td>1.0</td>\n",
       "      <td>None</td>\n",
       "      <td>None</td>\n",
       "      <td>50252</td>\n",
       "      <td>36320</td>\n",
       "      <td>29883</td>\n",
       "      <td>1980</td>\n",
       "      <td>...</td>\n",
       "      <td>11|-0.33%|D:68.2%</td>\n",
       "      <td>0.427998</td>\n",
       "      <td>0.427998</td>\n",
       "      <td>0.427998</td>\n",
       "      <td>0.427998</td>\n",
       "      <td>0.427998</td>\n",
       "      <td>0.427998</td>\n",
       "      <td>0.422630</td>\n",
       "      <td>11|-0.33%</td>\n",
       "      <td>POLYGON ((339473.512 3880656.244, 339444.698 3...</td>\n",
       "    </tr>\n",
       "    <tr>\n",
       "      <th>3</th>\n",
       "      <td>4</td>\n",
       "      <td>14.549558</td>\n",
       "      <td>12</td>\n",
       "      <td>1.0</td>\n",
       "      <td>None</td>\n",
       "      <td>None</td>\n",
       "      <td>51681</td>\n",
       "      <td>39029</td>\n",
       "      <td>15502</td>\n",
       "      <td>2547</td>\n",
       "      <td>...</td>\n",
       "      <td>12|2.51%|D:46.8%</td>\n",
       "      <td>0.355263</td>\n",
       "      <td>0.355263</td>\n",
       "      <td>0.355263</td>\n",
       "      <td>0.355263</td>\n",
       "      <td>0.355263</td>\n",
       "      <td>0.355263</td>\n",
       "      <td>0.429972</td>\n",
       "      <td>12|2.51%</td>\n",
       "      <td>POLYGON ((343381.991 3894799.814, 343330.907 3...</td>\n",
       "    </tr>\n",
       "    <tr>\n",
       "      <th>4</th>\n",
       "      <td>5</td>\n",
       "      <td>19.645391</td>\n",
       "      <td>13</td>\n",
       "      <td>1.0</td>\n",
       "      <td>None</td>\n",
       "      <td>None</td>\n",
       "      <td>48663</td>\n",
       "      <td>40401</td>\n",
       "      <td>21121</td>\n",
       "      <td>3444</td>\n",
       "      <td>...</td>\n",
       "      <td>13|-3.48%|D:71.8%</td>\n",
       "      <td>0.210013</td>\n",
       "      <td>0.210013</td>\n",
       "      <td>0.210013</td>\n",
       "      <td>0.210013</td>\n",
       "      <td>0.210013</td>\n",
       "      <td>0.210013</td>\n",
       "      <td>0.272271</td>\n",
       "      <td>13|-3.48%</td>\n",
       "      <td>POLYGON ((350643.547 3879543.448, 350602.224 3...</td>\n",
       "    </tr>\n",
       "  </tbody>\n",
       "</table>\n",
       "<p>5 rows × 97 columns</p>\n",
       "</div>"
      ],
      "text/plain": [
       "   ID        AREA DISTRICT  MEMBERS LOCKED  NAME  POPULATION  F18_POP  \\\n",
       "0   1  166.459534        1      1.0   None  None       47068    34250   \n",
       "1   2   29.514738       10      1.0   None  None       48840    39621   \n",
       "2   3   10.856782       11      1.0   None  None       50252    36320   \n",
       "3   4   14.549558       12      1.0   None  None       51681    39029   \n",
       "4   5   19.645391       13      1.0   None  None       48663    40401   \n",
       "\n",
       "   H18_POP  F18_AP_IND  ...         FORMULA_F6  POLSBY_PO5  POLSBY_PO6  \\\n",
       "0     6269       13412  ...   1|-6.64%|D:31.3%    0.243865    0.243865   \n",
       "1    17878        2518  ...  10|-3.13%|D:60.2%    0.189475    0.189475   \n",
       "2    29883        1980  ...  11|-0.33%|D:68.2%    0.427998    0.427998   \n",
       "3    15502        2547  ...   12|2.51%|D:46.8%    0.355263    0.355263   \n",
       "4    21121        3444  ...  13|-3.48%|D:71.8%    0.210013    0.210013   \n",
       "\n",
       "   POLSBY_PO7  POLSBY_PO8  POLSBY_PO9  POLSBY_P10     REOCK  DISTRICT_L  \\\n",
       "0    0.243865    0.243865    0.243865    0.243865  0.293581    1|-6.64%   \n",
       "1    0.189475    0.189475    0.189475    0.189475  0.297863   10|-3.13%   \n",
       "2    0.427998    0.427998    0.427998    0.427998  0.422630   11|-0.33%   \n",
       "3    0.355263    0.355263    0.355263    0.355263  0.429972    12|2.51%   \n",
       "4    0.210013    0.210013    0.210013    0.210013  0.272271   13|-3.48%   \n",
       "\n",
       "                                            geometry  \n",
       "0  POLYGON ((213517.219 4074327.665, 213527.755 4...  \n",
       "1  POLYGON ((346206.260 3889203.014, 346222.373 3...  \n",
       "2  POLYGON ((339473.512 3880656.244, 339444.698 3...  \n",
       "3  POLYGON ((343381.991 3894799.814, 343330.907 3...  \n",
       "4  POLYGON ((350643.547 3879543.448, 350602.224 3...  \n",
       "\n",
       "[5 rows x 97 columns]"
      ]
     },
     "execution_count": 49,
     "metadata": {},
     "output_type": "execute_result"
    }
   ],
   "source": [
    "send.head()"
   ]
  },
  {
   "cell_type": "code",
   "execution_count": 50,
   "metadata": {},
   "outputs": [
    {
     "name": "stderr",
     "output_type": "stream",
     "text": [
      "100%|██████████████████████████████████████████| 42/42 [00:00<00:00, 128.18it/s]\n",
      "100%|██████████████████████████████████████████| 42/42 [00:00<00:00, 436.42it/s]\n",
      "100%|███████████████████████████████████████████| 42/42 [00:01<00:00, 24.92it/s]\n"
     ]
    }
   ],
   "source": [
    "election_df = add_district(send, \"SEND\", election_df, \"DISTRICT\")"
   ]
  },
  {
   "cell_type": "code",
   "execution_count": 51,
   "metadata": {},
   "outputs": [
    {
     "data": {
      "text/html": [
       "<div>\n",
       "<style scoped>\n",
       "    .dataframe tbody tr th:only-of-type {\n",
       "        vertical-align: middle;\n",
       "    }\n",
       "\n",
       "    .dataframe tbody tr th {\n",
       "        vertical-align: top;\n",
       "    }\n",
       "\n",
       "    .dataframe thead th {\n",
       "        text-align: right;\n",
       "    }\n",
       "</style>\n",
       "<table border=\"1\" class=\"dataframe\">\n",
       "  <thead>\n",
       "    <tr style=\"text-align: right;\">\n",
       "      <th></th>\n",
       "      <th>ID</th>\n",
       "      <th>AREA</th>\n",
       "      <th>DISTRICT</th>\n",
       "      <th>MEMBERS</th>\n",
       "      <th>LOCKED</th>\n",
       "      <th>NAME</th>\n",
       "      <th>POPULATION</th>\n",
       "      <th>F18_POP</th>\n",
       "      <th>H18_POP</th>\n",
       "      <th>F18_AP_IND</th>\n",
       "      <th>...</th>\n",
       "      <th>F_REGDEM</th>\n",
       "      <th>F_REGREP</th>\n",
       "      <th>F_REGDTSOT</th>\n",
       "      <th>FORMULA_FI</th>\n",
       "      <th>FORMULA_F1</th>\n",
       "      <th>FORMULA_F2</th>\n",
       "      <th>FORMULA_F3</th>\n",
       "      <th>FORMULA_F4</th>\n",
       "      <th>DISTRICT_L</th>\n",
       "      <th>geometry</th>\n",
       "    </tr>\n",
       "  </thead>\n",
       "  <tbody>\n",
       "    <tr>\n",
       "      <th>0</th>\n",
       "      <td>1</td>\n",
       "      <td>355.002441</td>\n",
       "      <td>1</td>\n",
       "      <td>1.0</td>\n",
       "      <td>None</td>\n",
       "      <td>None</td>\n",
       "      <td>28162</td>\n",
       "      <td>20833</td>\n",
       "      <td>3960</td>\n",
       "      <td>3850</td>\n",
       "      <td>...</td>\n",
       "      <td>0.181855</td>\n",
       "      <td>0.594009</td>\n",
       "      <td>0.224136</td>\n",
       "      <td>1|Dev: -6.9%|18+ NA: 14.43%</td>\n",
       "      <td>1|-6.9%|18+ NA: 14.43%</td>\n",
       "      <td>1|-6.9%|NAVAP: 14.43%</td>\n",
       "      <td>1|-6.9%|NAVAP: 14.43%</td>\n",
       "      <td>1|-6.9%|NAVAP: 14.43%</td>\n",
       "      <td>1|-6.9%</td>\n",
       "      <td>POLYGON ((212249.925 4072505.182, 212230.119 4...</td>\n",
       "    </tr>\n",
       "    <tr>\n",
       "      <th>1</th>\n",
       "      <td>2</td>\n",
       "      <td>131.669159</td>\n",
       "      <td>10</td>\n",
       "      <td>1.0</td>\n",
       "      <td>None</td>\n",
       "      <td>None</td>\n",
       "      <td>30697</td>\n",
       "      <td>23530</td>\n",
       "      <td>16131</td>\n",
       "      <td>1038</td>\n",
       "      <td>...</td>\n",
       "      <td>0.520037</td>\n",
       "      <td>0.226351</td>\n",
       "      <td>0.253611</td>\n",
       "      <td>10|Dev: 1.48%|18+ NA: 1.6%</td>\n",
       "      <td>10|1.48%|18+ NA: 1.6%</td>\n",
       "      <td>10|1.48%|NAVAP: 1.6%</td>\n",
       "      <td>10|1.48%|NAVAP: 1.6%</td>\n",
       "      <td>10|1.48%|NAVAP: 1.6%</td>\n",
       "      <td>10|1.48%</td>\n",
       "      <td>POLYGON ((350518.818 3882012.421, 350549.844 3...</td>\n",
       "    </tr>\n",
       "    <tr>\n",
       "      <th>2</th>\n",
       "      <td>3</td>\n",
       "      <td>11.999463</td>\n",
       "      <td>11</td>\n",
       "      <td>1.0</td>\n",
       "      <td>None</td>\n",
       "      <td>None</td>\n",
       "      <td>30889</td>\n",
       "      <td>25549</td>\n",
       "      <td>12986</td>\n",
       "      <td>2392</td>\n",
       "      <td>...</td>\n",
       "      <td>0.596930</td>\n",
       "      <td>0.155876</td>\n",
       "      <td>0.247194</td>\n",
       "      <td>11|Dev: 2.11%|18+ NA: 5.36%</td>\n",
       "      <td>11|2.11%|18+ NA: 5.36%</td>\n",
       "      <td>11|2.11%|NAVAP: 5.36%</td>\n",
       "      <td>11|2.11%|NAVAP: 5.36%</td>\n",
       "      <td>11|2.11%|NAVAP: 5.36%</td>\n",
       "      <td>11|2.11%</td>\n",
       "      <td>POLYGON ((346749.630 3884213.219, 346745.601 3...</td>\n",
       "    </tr>\n",
       "    <tr>\n",
       "      <th>3</th>\n",
       "      <td>4</td>\n",
       "      <td>9.793800</td>\n",
       "      <td>12</td>\n",
       "      <td>1.0</td>\n",
       "      <td>None</td>\n",
       "      <td>None</td>\n",
       "      <td>30913</td>\n",
       "      <td>22693</td>\n",
       "      <td>18914</td>\n",
       "      <td>1028</td>\n",
       "      <td>...</td>\n",
       "      <td>0.555525</td>\n",
       "      <td>0.179781</td>\n",
       "      <td>0.264694</td>\n",
       "      <td>12|Dev: 2.19%|18+ NA: 1.65%</td>\n",
       "      <td>12|2.19%|18+ NA: 1.65%</td>\n",
       "      <td>12|2.19%|NAVAP: 1.65%</td>\n",
       "      <td>12|2.19%|NAVAP: 1.65%</td>\n",
       "      <td>12|2.19%|NAVAP: 1.65%</td>\n",
       "      <td>12|2.19%</td>\n",
       "      <td>POLYGON ((342949.770 3880290.108, 342954.908 3...</td>\n",
       "    </tr>\n",
       "    <tr>\n",
       "      <th>4</th>\n",
       "      <td>5</td>\n",
       "      <td>4.003754</td>\n",
       "      <td>13</td>\n",
       "      <td>1.0</td>\n",
       "      <td>None</td>\n",
       "      <td>None</td>\n",
       "      <td>31134</td>\n",
       "      <td>21616</td>\n",
       "      <td>16717</td>\n",
       "      <td>1425</td>\n",
       "      <td>...</td>\n",
       "      <td>0.509788</td>\n",
       "      <td>0.193243</td>\n",
       "      <td>0.296970</td>\n",
       "      <td>13|Dev: 2.92%|18+ NA: 3.46%</td>\n",
       "      <td>13|2.92%|18+ NA: 3.46%</td>\n",
       "      <td>13|2.92%|NAVAP: 3.46%</td>\n",
       "      <td>13|2.92%|NAVAP: 3.46%</td>\n",
       "      <td>13|2.92%|NAVAP: 3.46%</td>\n",
       "      <td>13|2.92%</td>\n",
       "      <td>POLYGON ((341551.317 3882608.224, 341553.243 3...</td>\n",
       "    </tr>\n",
       "  </tbody>\n",
       "</table>\n",
       "<p>5 rows × 87 columns</p>\n",
       "</div>"
      ],
      "text/plain": [
       "   ID        AREA DISTRICT  MEMBERS LOCKED  NAME  POPULATION  F18_POP  \\\n",
       "0   1  355.002441        1      1.0   None  None       28162    20833   \n",
       "1   2  131.669159       10      1.0   None  None       30697    23530   \n",
       "2   3   11.999463       11      1.0   None  None       30889    25549   \n",
       "3   4    9.793800       12      1.0   None  None       30913    22693   \n",
       "4   5    4.003754       13      1.0   None  None       31134    21616   \n",
       "\n",
       "   H18_POP  F18_AP_IND  ...  F_REGDEM  F_REGREP  F_REGDTSOT  \\\n",
       "0     3960        3850  ...  0.181855  0.594009    0.224136   \n",
       "1    16131        1038  ...  0.520037  0.226351    0.253611   \n",
       "2    12986        2392  ...  0.596930  0.155876    0.247194   \n",
       "3    18914        1028  ...  0.555525  0.179781    0.264694   \n",
       "4    16717        1425  ...  0.509788  0.193243    0.296970   \n",
       "\n",
       "                    FORMULA_FI              FORMULA_F1             FORMULA_F2  \\\n",
       "0  1|Dev: -6.9%|18+ NA: 14.43%  1|-6.9%|18+ NA: 14.43%  1|-6.9%|NAVAP: 14.43%   \n",
       "1   10|Dev: 1.48%|18+ NA: 1.6%   10|1.48%|18+ NA: 1.6%   10|1.48%|NAVAP: 1.6%   \n",
       "2  11|Dev: 2.11%|18+ NA: 5.36%  11|2.11%|18+ NA: 5.36%  11|2.11%|NAVAP: 5.36%   \n",
       "3  12|Dev: 2.19%|18+ NA: 1.65%  12|2.19%|18+ NA: 1.65%  12|2.19%|NAVAP: 1.65%   \n",
       "4  13|Dev: 2.92%|18+ NA: 3.46%  13|2.92%|18+ NA: 3.46%  13|2.92%|NAVAP: 3.46%   \n",
       "\n",
       "              FORMULA_F3             FORMULA_F4  DISTRICT_L  \\\n",
       "0  1|-6.9%|NAVAP: 14.43%  1|-6.9%|NAVAP: 14.43%     1|-6.9%   \n",
       "1   10|1.48%|NAVAP: 1.6%   10|1.48%|NAVAP: 1.6%    10|1.48%   \n",
       "2  11|2.11%|NAVAP: 5.36%  11|2.11%|NAVAP: 5.36%    11|2.11%   \n",
       "3  12|2.19%|NAVAP: 1.65%  12|2.19%|NAVAP: 1.65%    12|2.19%   \n",
       "4  13|2.92%|NAVAP: 3.46%  13|2.92%|NAVAP: 3.46%    13|2.92%   \n",
       "\n",
       "                                            geometry  \n",
       "0  POLYGON ((212249.925 4072505.182, 212230.119 4...  \n",
       "1  POLYGON ((350518.818 3882012.421, 350549.844 3...  \n",
       "2  POLYGON ((346749.630 3884213.219, 346745.601 3...  \n",
       "3  POLYGON ((342949.770 3880290.108, 342954.908 3...  \n",
       "4  POLYGON ((341551.317 3882608.224, 341553.243 3...  \n",
       "\n",
       "[5 rows x 87 columns]"
      ]
     },
     "execution_count": 51,
     "metadata": {},
     "output_type": "execute_result"
    }
   ],
   "source": [
    "hdist.head()"
   ]
  },
  {
   "cell_type": "code",
   "execution_count": 52,
   "metadata": {},
   "outputs": [
    {
     "name": "stderr",
     "output_type": "stream",
     "text": [
      "100%|██████████████████████████████████████████| 70/70 [00:00<00:00, 172.14it/s]\n",
      "100%|██████████████████████████████████████████| 70/70 [00:00<00:00, 557.34it/s]\n",
      "100%|███████████████████████████████████████████| 70/70 [00:01<00:00, 40.24it/s]\n"
     ]
    }
   ],
   "source": [
    "election_df = add_district(hdist, \"HDIST\", election_df, \"DISTRICT\")"
   ]
  },
  {
   "cell_type": "code",
   "execution_count": 53,
   "metadata": {},
   "outputs": [
    {
     "data": {
      "text/plain": [
       "Index(['2MOREVAP', 'AMINVAP', 'ASIANVAP', 'ATG18D', 'ATG18O', 'ATG18R',\n",
       "       'AUD18D', 'AUD18R', 'BVAP', 'COUNTYFP', 'COUNTYNAME', 'GOV18D',\n",
       "       'GOV18R', 'HISP', 'HVAP', 'H_2MORE', 'H_AMIN', 'H_ASIAN', 'H_BLACK',\n",
       "       'H_NHPI', 'H_OTHER', 'H_WHITE', 'LND18D', 'LND18O', 'LND18R', 'NAME',\n",
       "       'NHPIVAP', 'NH_2MORE', 'NH_AMIN', 'NH_ASIAN', 'NH_BLACK', 'NH_NHPI',\n",
       "       'NH_OTHER', 'NH_WHITE', 'OTHERVAP', 'PRE16D', 'PRE16O', 'PRE16R',\n",
       "       'PRE20D', 'PRE20O', 'PRE20R', 'SAC16D', 'SAC16R', 'SAC18D', 'SAC18R',\n",
       "       'SAC20D', 'SAC20O', 'SAC20R', 'SOS16D', 'SOS16R', 'SOS18D', 'SOS18O',\n",
       "       'SOS18R', 'SSC16D', 'SSC16R', 'SSC18D', 'SSC18R', 'SSC20D', 'SSC20R',\n",
       "       'STATEFP', 'TOTPOP', 'TRE18D', 'TRE18R', 'USS18D', 'USS18O', 'USS18R',\n",
       "       'USS20D', 'USS20O', 'USS20R', 'VAP', 'VTDST', 'WVAP', 'geometry', 'CD',\n",
       "       'SEND', 'HDIST'],\n",
       "      dtype='object')"
      ]
     },
     "execution_count": 53,
     "metadata": {},
     "output_type": "execute_result"
    }
   ],
   "source": [
    "election_df.columns"
   ]
  },
  {
   "cell_type": "markdown",
   "metadata": {},
   "source": [
    "### Put the base precinct year after the precinct information column"
   ]
  },
  {
   "cell_type": "code",
   "execution_count": 55,
   "metadata": {},
   "outputs": [],
   "source": [
    "'STATEFP', 'COUNTYFP', 'COUNTYNAME', 'VTDST', 'NAME',\n",
    "base_columns = {}\n",
    "if 'COUNTYFP' + year not in election_df.columns:\n",
    "    base_columns = {\n",
    "        'STATEFP':'STATEFP'+year,\n",
    "        'COUNTYFP':'COUNTYFP'+year,\n",
    "        'COUNTYNAME':'COUNTYNAME'+year,\n",
    "        'VTDST':'VTDST'+year,\n",
    "        'NAME':'NAME'+year}\n",
    "election_df.rename(columns=base_columns, inplace = True)"
   ]
  },
  {
   "cell_type": "code",
   "execution_count": 56,
   "metadata": {},
   "outputs": [
    {
     "data": {
      "text/plain": [
       "Index(['2MOREVAP', 'AMINVAP', 'ASIANVAP', 'ATG18D', 'ATG18O', 'ATG18R',\n",
       "       'AUD18D', 'AUD18R', 'BVAP', 'COUNTYFP20', 'COUNTYNAME20', 'GOV18D',\n",
       "       'GOV18R', 'HISP', 'HVAP', 'H_2MORE', 'H_AMIN', 'H_ASIAN', 'H_BLACK',\n",
       "       'H_NHPI', 'H_OTHER', 'H_WHITE', 'LND18D', 'LND18O', 'LND18R', 'NAME20',\n",
       "       'NHPIVAP', 'NH_2MORE', 'NH_AMIN', 'NH_ASIAN', 'NH_BLACK', 'NH_NHPI',\n",
       "       'NH_OTHER', 'NH_WHITE', 'OTHERVAP', 'PRE16D', 'PRE16O', 'PRE16R',\n",
       "       'PRE20D', 'PRE20O', 'PRE20R', 'SAC16D', 'SAC16R', 'SAC18D', 'SAC18R',\n",
       "       'SAC20D', 'SAC20O', 'SAC20R', 'SOS16D', 'SOS16R', 'SOS18D', 'SOS18O',\n",
       "       'SOS18R', 'SSC16D', 'SSC16R', 'SSC18D', 'SSC18R', 'SSC20D', 'SSC20R',\n",
       "       'STATEFP20', 'TOTPOP', 'TRE18D', 'TRE18R', 'USS18D', 'USS18O', 'USS18R',\n",
       "       'USS20D', 'USS20O', 'USS20R', 'VAP', 'VTDST20', 'WVAP', 'geometry',\n",
       "       'CD', 'SEND', 'HDIST'],\n",
       "      dtype='object')"
      ]
     },
     "execution_count": 56,
     "metadata": {},
     "output_type": "execute_result"
    }
   ],
   "source": [
    "election_df.columns"
   ]
  },
  {
   "cell_type": "code",
   "execution_count": 57,
   "metadata": {},
   "outputs": [],
   "source": [
    "# reorder the columns\n",
    "fixed_columns = [\n",
    "    'STATEFP'+year,\n",
    "    'COUNTYFP'+year,\n",
    "    'COUNTYNAME'+year,\n",
    "    'VTDST'+year,\n",
    "    'NAME'+year,\n",
    "    'CD',\n",
    "    'SEND',\n",
    "    'HDIST',\n",
    "    'TOTPOP',\n",
    "    'NH_2MORE',\n",
    "    'NH_AMIN',\n",
    "    'NH_ASIAN',\n",
    "    'NH_BLACK',\n",
    "    'NH_NHPI',\n",
    "    'NH_OTHER',\n",
    "    'NH_WHITE',\n",
    "    'HISP',\n",
    "    'H_AMIN',\n",
    "    'H_ASIAN',\n",
    "    'H_BLACK',\n",
    "    'H_NHPI',\n",
    "    'H_OTHER',\n",
    "    'H_WHITE',\n",
    "    'H_2MORE',\n",
    "    'VAP',\n",
    "    'HVAP',\n",
    "    'WVAP',\n",
    "    'BVAP',\n",
    "    'AMINVAP',\n",
    "    'ASIANVAP',\n",
    "    'NHPIVAP',\n",
    "    'OTHERVAP',\n",
    "    '2MOREVAP']\n",
    "\n",
    "election_columns = [col for col in election_df.columns if col not in fixed_columns]\n",
    "final_col = fixed_columns + election_columns\n",
    "election_df = election_df[final_col]"
   ]
  },
  {
   "cell_type": "code",
   "execution_count": 58,
   "metadata": {},
   "outputs": [],
   "source": [
    "import os\n",
    "\n",
    "# store the result in directory \"il\"\n",
    "directory = \"./{}\".format(state_ab)\n",
    "if not os.path.exists(directory):\n",
    "    os.makedirs(directory)\n",
    "\n",
    "shapefile_path = \"./{}/{}.shp\".format(state_ab, state_ab)\n",
    "geojson_path = './{}/{}.geojson'.format(state_ab, state_ab)\n",
    "json_path = \"./{}.json\".format(state_ab, state_ab)\n",
    "\n",
    "# Check if the shapefile or geojson file already exists\n",
    "if os.path.exists(shapefile_path):\n",
    "    os.remove(shapefile_path)\n",
    "if os.path.exists(geojson_path):\n",
    "    os.remove(geojson_path)\n",
    "\n",
    "election_df.to_file(shapefile_path)\n",
    "election_df.to_file(geojson_path, driver='GeoJSON')\n",
    "\n",
    "# Only do once to build json and read from file when generating ensembles\n",
    "graph = Graph.from_file(shapefile_path, ignore_errors=True)\n",
    "graph.to_json(json_path)"
   ]
  },
  {
   "cell_type": "code",
   "execution_count": 59,
   "metadata": {},
   "outputs": [
    {
     "data": {
      "text/plain": [
       "<Axes: >"
      ]
     },
     "execution_count": 59,
     "metadata": {},
     "output_type": "execute_result"
    },
    {
     "data": {
      "image/png": "[encoded data removed]",
      "text/plain": [
       "<Figure size 640x480 with 1 Axes>"
      ]
     },
     "metadata": {},
     "output_type": "display_data"
    }
   ],
   "source": [
    "shapefile_path = \"./{}/{}.shp\".format(state_ab, state_ab)\n",
    "shape=gpd.read_file(shapefile_path)\n",
    "shape.plot()"
   ]
  },
  {
   "cell_type": "code",
   "execution_count": 60,
   "metadata": {},
   "outputs": [
    {
     "data": {
      "text/plain": [
       "76"
      ]
     },
     "execution_count": 60,
     "metadata": {},
     "output_type": "execute_result"
    }
   ],
   "source": [
    "len(election_df.columns)"
   ]
  }
 ],
 "metadata": {
  "kernelspec": {
   "display_name": "gerry",
   "language": "python",
   "name": "gerry"
  },
  "language_info": {
   "codemirror_mode": {
    "name": "ipython",
    "version": 3
   },
   "file_extension": ".py",
   "mimetype": "text/x-python",
   "name": "python",
   "nbconvert_exporter": "python",
   "pygments_lexer": "ipython3",
   "version": "3.11.4"
  }
 },
 "nbformat": 4,
 "nbformat_minor": 4
}
