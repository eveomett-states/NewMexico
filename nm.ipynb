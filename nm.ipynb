{
 "cells": [
  {
   "cell_type": "code",
   "execution_count": 1,
   "metadata": {},
   "outputs": [],
   "source": [
    "import pandas as pd\n",
    "import geopandas as gpd\n",
    "import maup\n",
    "import time\n",
    "from maup import smart_repair\n",
    "from gerrychain import Graph\n",
    "\n",
    "maup.progress.enabled = True"
   ]
  },
  {
   "cell_type": "code",
   "execution_count": 2,
   "metadata": {},
   "outputs": [],
   "source": [
    "import warnings\n",
    "warnings.filterwarnings(\"ignore\")"
   ]
  },
  {
   "cell_type": "code",
   "execution_count": 3,
   "metadata": {},
   "outputs": [],
   "source": [
    "# state = New Mexico\n",
    "state_ab = \"nm\""
   ]
  },
  {
   "cell_type": "markdown",
   "metadata": {},
   "source": [
    "## Data\n",
    "1. Download all the data in directory \"nm_data\"\n",
    "2. Extract them all"
   ]
  },
  {
   "cell_type": "code",
   "execution_count": 4,
   "metadata": {},
   "outputs": [],
   "source": [
    "data_folder = state_ab + \"_data/\"\n",
    "population1_data = \"./{}{}_pl2020_b/{}_pl2020_p1_b.shp\".format(data_folder, state_ab, state_ab)\n",
    "population2_data = \"./{}{}_pl2020_b/{}_pl2020_p2_b.shp\".format(data_folder, state_ab, state_ab)\n",
    "vap_data =  \"./{}{}_pl2020_b/{}_pl2020_p4_b.shp\".format(data_folder, state_ab, state_ab)\n",
    "vest20_data = \"./{}{}_vest_20/{}_vest_20.shp\".format(data_folder, state_ab, state_ab)\n",
    "vest18_data = \"./{}{}_vest_18/{}_vest_18.shp\".format(data_folder, state_ab, state_ab)\n",
    "vest16_data = \"./{}{}_vest_16/{}_vest_16.shp\".format(data_folder, state_ab, state_ab)\n",
    "cd_data = \"./{}{}_cong_adopted_2021/CD_221711_Shapefile.shp\".format(data_folder, state_ab)\n",
    "send_data = \"./{}{}_sldu_adopted_2022/SD_221780.shp\".format(data_folder, state_ab)\n",
    "hdist_data = \"./{}{}_sldl_adopted_2021/HD_221619.shp\".format(data_folder, state_ab)"
   ]
  },
  {
   "cell_type": "code",
   "execution_count": 5,
   "metadata": {},
   "outputs": [],
   "source": [
    "def do_smart_repair(df):\n",
    "    # change it to the UTM it needs for smart_repair\n",
    "    df = df.to_crs(df.estimate_utm_crs())\n",
    "    df = smart_repair(df)\n",
    "    if maup.doctor(df):\n",
    "        print('smart_repair successful')\n",
    "            \n",
    "        # change it back to this UTM for this data\n",
    "        df = df.to_crs('EPSG:4269')\n",
    "    else:\n",
    "        raise Exception('smart_repair failed')\n",
    "    return df"
   ]
  },
  {
   "cell_type": "code",
   "execution_count": 6,
   "metadata": {},
   "outputs": [],
   "source": [
    "def add_district(dist_df, dist_name, election_df, col_name):\n",
    "    # check if it needs to be smart_repair\n",
    "    if maup.doctor(dist_df) != True:\n",
    "        dist_df = do_smart_repair(dist_df)\n",
    "    \n",
    "    election_df = gpd.GeoDataFrame(election_df, crs=\"EPSG:4269\")\n",
    "    \n",
    "    # assign the pricincts\n",
    "    precincts_to_district_assignment = maup.assign(election_df.geometry, dist_df.geometry)\n",
    "    election_df[dist_name] = precincts_to_district_assignment\n",
    "    for precinct_index in range(len(election_df)):\n",
    "        election_df.at[precinct_index, dist_name] = dist_df.at[election_df.at[precinct_index, dist_name], col_name]\n",
    "    \n",
    "    return election_df"
   ]
  },
  {
   "cell_type": "code",
   "execution_count": 7,
   "metadata": {},
   "outputs": [],
   "source": [
    "def rename(original, year):\n",
    "    party = original[6]\n",
    "    if party == 'R' or party == 'D':\n",
    "        return original[3:6] + year + original[6]\n",
    "    else:\n",
    "        return original[3:6] + year + 'O'"
   ]
  },
  {
   "cell_type": "code",
   "execution_count": 8,
   "metadata": {},
   "outputs": [],
   "source": [
    "pop_col = ['TOTPOP', 'HISP', 'NH_WHITE', 'NH_BLACK', 'NH_AMIN', 'NH_ASIAN', 'NH_NHPI', 'NH_OTHER', 'NH_2MORE', 'H_WHITE', 'H_BLACK', 'H_AMIN', 'H_ASIAN', 'H_NHPI', 'H_OTHER', 'H_2MORE', 'VAP', 'HVAP', 'WVAP', 'BVAP', 'AMINVAP', 'ASIANVAP', 'NHPIVAP', 'OTHERVAP', '2MOREVAP']"
   ]
  },
  {
   "cell_type": "code",
   "execution_count": 9,
   "metadata": {},
   "outputs": [],
   "source": [
    "def check_population(population, df):\n",
    "    pop_check = pd.DataFrame({\n",
    "        'pop_col': pop_col,\n",
    "        'population_df': population[pop_col].sum(), \n",
    "        'vest_base': df[pop_col].sum(),\n",
    "        'equal': [x == y for x, y in zip(population[pop_col].sum(), df[pop_col].sum())]\n",
    "    })\n",
    "    if pop_check['equal'].mean() < 1:\n",
    "        print(pop_check)\n",
    "        raise Exception(\"population doesn't agree\")\n",
    "\n",
    "    else:\n",
    "        print(\"population agrees\")"
   ]
  },
  {
   "cell_type": "code",
   "execution_count": 10,
   "metadata": {},
   "outputs": [],
   "source": [
    "def add_vest(vest, df, year, population, start_col):    \n",
    "     # check if it needs to be smart_repair\n",
    "    if maup.doctor(vest) != True:\n",
    "        vest = do_smart_repair(vest)\n",
    "    \n",
    "    # rename the columns\n",
    "    original_col = vest.columns[start_col:-1]\n",
    "    new_col = [rename(i, year) for i in original_col]\n",
    "    rename_dict = dict(zip(original_col, new_col))\n",
    "    vest = vest.rename(columns=rename_dict)\n",
    "    vest = vest.groupby(level=0, axis=1).sum() # combine all the other party's vote into columns with sufix \"O\"\n",
    "    col_name = list(set(new_col))\n",
    "    col_name.sort()\n",
    "    \n",
    "    # make the blocks from precincts by weight\n",
    "    vest = gpd.GeoDataFrame(vest, crs=\"EPSG:4269\")\n",
    "    election_in_block = population[[\"VAP\", 'geometry']] # population_df is in block scale\n",
    "    blocks_to_precincts_assignment = maup.assign(election_in_block.geometry, vest.geometry)\n",
    "\n",
    "    weights = election_in_block[\"VAP\"] / blocks_to_precincts_assignment.map(election_in_block[\"VAP\"].groupby(blocks_to_precincts_assignment).sum())\n",
    "    weights = weights.fillna(0)\n",
    "    prorated = maup.prorate(blocks_to_precincts_assignment, vest[col_name], weights)\n",
    "    election_in_block[col_name] = prorated\n",
    "\n",
    "    # assign blocks to precincts\n",
    "    election_in_block = gpd.GeoDataFrame(election_in_block, crs=\"EPSG:4269\")\n",
    "    df = gpd.GeoDataFrame(df, crs=\"EPSG:4269\")\n",
    "    block_to_pricinct_assginment = maup.assign(election_in_block.geometry, df.geometry)\n",
    "    df[col_name] = election_in_block[col_name].groupby(block_to_pricinct_assginment).sum()\n",
    "    df = df.groupby(level=0, axis=1).sum()\n",
    "    \n",
    "    # check if population agrees\n",
    "    check_population(population, df)\n",
    "        \n",
    "    return df"
   ]
  },
  {
   "cell_type": "markdown",
   "metadata": {},
   "source": [
    "### Read the census data"
   ]
  },
  {
   "cell_type": "code",
   "execution_count": 11,
   "metadata": {},
   "outputs": [],
   "source": [
    "population1_df = gpd.read_file(population1_data)\n",
    "population2_df = gpd.read_file(population2_data)\n",
    "vap_df = gpd.read_file(vap_data)"
   ]
  },
  {
   "cell_type": "code",
   "execution_count": 12,
   "metadata": {},
   "outputs": [],
   "source": [
    "population2_df = population2_df.drop(columns=['SUMLEV', 'LOGRECNO', 'GEOID', 'COUNTY', 'geometry'])\n",
    "vap_df = vap_df.drop(columns=['SUMLEV', 'LOGRECNO', 'GEOID', 'COUNTY', 'geometry'])"
   ]
  },
  {
   "cell_type": "code",
   "execution_count": 13,
   "metadata": {},
   "outputs": [],
   "source": [
    "population_df = pd.merge(population1_df, population2_df, on='GEOID20')\n",
    "population_df = pd.merge(population_df, vap_df, on='GEOID20')"
   ]
  },
  {
   "cell_type": "code",
   "execution_count": 14,
   "metadata": {},
   "outputs": [
    {
     "name": "stderr",
     "output_type": "stream",
     "text": [
      "100%|██████████| 107215/107215 [02:06<00:00, 844.67it/s] \n"
     ]
    },
    {
     "data": {
      "text/plain": [
       "True"
      ]
     },
     "execution_count": 14,
     "metadata": {},
     "output_type": "execute_result"
    }
   ],
   "source": [
    "maup.doctor(population_df)"
   ]
  },
  {
   "cell_type": "code",
   "execution_count": 15,
   "metadata": {},
   "outputs": [],
   "source": [
    "population_df['H_WHITE'] = population_df.apply(lambda t: t['P0010003'] - t['P0020005'], 1)\n",
    "population_df['H_BLACK'] = population_df.apply(lambda t: t['P0010004'] - t['P0020006'], 1)\n",
    "population_df['H_AMIN'] = population_df.apply(lambda t: t['P0010005'] - t['P0020007'], 1)\n",
    "population_df['H_ASIAN'] = population_df.apply(lambda t: t['P0010006'] - t['P0020008'], 1)\n",
    "population_df['H_NHPI'] = population_df.apply(lambda t: t['P0010007'] - t['P0020009'], 1)\n",
    "population_df['H_OTHER'] = population_df.apply(lambda t: t['P0010008'] - t['P0020010'], 1)\n",
    "population_df['H_2MORE'] = population_df.apply(lambda t: t['P0010009'] - t['P0020011'], 1)"
   ]
  },
  {
   "cell_type": "code",
   "execution_count": 16,
   "metadata": {},
   "outputs": [],
   "source": [
    "rename_dict = {'P0020001': 'TOTPOP', 'P0020002': 'HISP', 'P0020005': 'NH_WHITE', 'P0020006': 'NH_BLACK', 'P0020007': 'NH_AMIN',\n",
    "                    'P0020008': 'NH_ASIAN', 'P0020009': 'NH_NHPI', 'P0020010': 'NH_OTHER', 'P0020011': 'NH_2MORE',\n",
    "                    'P0040001': 'VAP', 'P0040002': 'HVAP', 'P0040005': 'WVAP', 'P0040006': 'BVAP', 'P0040007': 'AMINVAP',\n",
    "                                        'P0040008': 'ASIANVAP', 'P0040009': 'NHPIVAP', 'P0040010': 'OTHERVAP', 'P0040011': '2MOREVAP'}"
   ]
  },
  {
   "cell_type": "code",
   "execution_count": 17,
   "metadata": {},
   "outputs": [],
   "source": [
    "population_df.rename(columns=rename_dict, inplace = True)"
   ]
  },
  {
   "cell_type": "code",
   "execution_count": 18,
   "metadata": {},
   "outputs": [
    {
     "name": "stderr",
     "output_type": "stream",
     "text": [
      "100%|██████████| 3/3 [00:00<00:00, 31.66it/s]\n"
     ]
    }
   ],
   "source": [
    "cong_df = gpd.read_file(cd_data)\n",
    "if maup.doctor(cong_df) != True:\n",
    "    cong_df = do_smart_repair(cong_df)"
   ]
  },
  {
   "cell_type": "markdown",
   "metadata": {},
   "source": [
    "## Read the vest 20 data\n",
    "\n",
    "Now using it as a \"base pricinct\""
   ]
  },
  {
   "cell_type": "code",
   "execution_count": 19,
   "metadata": {},
   "outputs": [],
   "source": [
    "def add_vest_base(vest, start_col, year):\n",
    "    original_col = vest.columns[start_col:-1]\n",
    "    new_col = [rename(i, year) for i in original_col]\n",
    "    rename_dict = dict(zip(original_col, new_col))\n",
    "    vest = vest.rename(columns=rename_dict)\n",
    "    vest = vest.groupby(level=0, axis=1).sum()\n",
    "    vest = gpd.GeoDataFrame(vest, crs=\"EPSG:4269\")\n",
    "    \n",
    "    return vest"
   ]
  },
  {
   "cell_type": "markdown",
   "metadata": {},
   "source": [
    "## Check if vest20 can be used as base"
   ]
  },
  {
   "cell_type": "code",
   "execution_count": 20,
   "metadata": {},
   "outputs": [
    {
     "name": "stderr",
     "output_type": "stream",
     "text": [
      "100%|██████████| 1917/1917 [00:05<00:00, 323.50it/s]\n"
     ]
    },
    {
     "name": "stdout",
     "output_type": "stream",
     "text": [
      "There are 17 overlaps.\n",
      "Snapping all geometries to a grid with precision 10^( -5 ) to avoid GEOS errors.\n",
      "Identifying overlaps...\n"
     ]
    },
    {
     "name": "stderr",
     "output_type": "stream",
     "text": [
      "100%|██████████| 1940/1940 [00:01<00:00, 1314.68it/s]\n"
     ]
    },
    {
     "name": "stdout",
     "output_type": "stream",
     "text": [
      "Resolving overlaps...\n",
      "Assigning order 2 pieces...\n",
      "Filling gaps...\n"
     ]
    },
    {
     "name": "stderr",
     "output_type": "stream",
     "text": [
      "Gaps to simplify: 100%|██████████| 6/6 [00:01<00:00,  5.07it/s]\n",
      "Gaps to fill: 100%|██████████| 3/3 [00:00<00:00,  5.47it/s]\n",
      "100%|██████████| 1917/1917 [00:05<00:00, 375.43it/s]\n"
     ]
    },
    {
     "name": "stdout",
     "output_type": "stream",
     "text": [
      "smart_repair successful\n"
     ]
    }
   ],
   "source": [
    "vest20 = gpd.read_file(vest20_data)\n",
    "if maup.doctor(vest20) != True:\n",
    "    vest20 = do_smart_repair(vest20)"
   ]
  },
  {
   "cell_type": "code",
   "execution_count": 21,
   "metadata": {},
   "outputs": [
    {
     "data": {
      "text/plain": [
       "Index(['STATEFP', 'COUNTYFP', 'COUNTYNAME', 'VTDST', 'NAME', 'G20PREDBID',\n",
       "       'G20PRERTRU', 'G20PRELJOR', 'G20PREGHAW', 'G20PRECTIT', 'G20PRESLAR',\n",
       "       'G20USSDLUJ', 'G20USSRRON', 'G20USSLWAL', 'G20SSCDBAC', 'G20SSCRFUL',\n",
       "       'G20SSCDTHO', 'G20SSCRMOR', 'G20SACDIVE', 'G20SACRJOH', 'G20SACDHEN',\n",
       "       'G20SACRLEE', 'G20SACLCUR', 'G20SACDYOH', 'G20SACRMON', 'geometry'],\n",
       "      dtype='object')"
      ]
     },
     "execution_count": 21,
     "metadata": {},
     "output_type": "execute_result"
    }
   ],
   "source": [
    "vest20.columns"
   ]
  },
  {
   "cell_type": "code",
   "execution_count": 22,
   "metadata": {},
   "outputs": [],
   "source": [
    "start_col = 5\n",
    "vest_base_data = vest20\n",
    "year = '20'"
   ]
  },
  {
   "cell_type": "code",
   "execution_count": 23,
   "metadata": {},
   "outputs": [],
   "source": [
    "vest_base = add_vest_base(vest_base_data, start_col, year)"
   ]
  },
  {
   "cell_type": "code",
   "execution_count": 24,
   "metadata": {},
   "outputs": [
    {
     "name": "stderr",
     "output_type": "stream",
     "text": [
      "100%|██████████| 1917/1917 [00:04<00:00, 388.05it/s]\n",
      "100%|██████████| 1917/1917 [00:27<00:00, 69.58it/s] \n"
     ]
    }
   ],
   "source": [
    "# vap and population have the same GEOID20\n",
    "blocks_to_precincts_assignment = maup.assign(population_df.geometry, vest_base.geometry)"
   ]
  },
  {
   "cell_type": "code",
   "execution_count": 25,
   "metadata": {},
   "outputs": [],
   "source": [
    "vest_base[pop_col] = population_df[pop_col].groupby(blocks_to_precincts_assignment).sum()"
   ]
  },
  {
   "cell_type": "code",
   "execution_count": 26,
   "metadata": {},
   "outputs": [],
   "source": [
    "election_df = gpd.GeoDataFrame(vest_base, crs=\"EPSG:4269\")"
   ]
  },
  {
   "cell_type": "code",
   "execution_count": 27,
   "metadata": {},
   "outputs": [
    {
     "data": {
      "text/plain": [
       "Index(['COUNTYFP', 'COUNTYNAME', 'NAME', 'PRE20D', 'PRE20O', 'PRE20R',\n",
       "       'SAC20D', 'SAC20O', 'SAC20R', 'SSC20D', 'SSC20R', 'STATEFP', 'USS20D',\n",
       "       'USS20O', 'USS20R', 'VTDST', 'geometry', 'TOTPOP', 'HISP', 'NH_WHITE',\n",
       "       'NH_BLACK', 'NH_AMIN', 'NH_ASIAN', 'NH_NHPI', 'NH_OTHER', 'NH_2MORE',\n",
       "       'H_WHITE', 'H_BLACK', 'H_AMIN', 'H_ASIAN', 'H_NHPI', 'H_OTHER',\n",
       "       'H_2MORE', 'VAP', 'HVAP', 'WVAP', 'BVAP', 'AMINVAP', 'ASIANVAP',\n",
       "       'NHPIVAP', 'OTHERVAP', '2MOREVAP'],\n",
       "      dtype='object')"
      ]
     },
     "execution_count": 27,
     "metadata": {},
     "output_type": "execute_result"
    }
   ],
   "source": [
    "election_df.columns"
   ]
  },
  {
   "cell_type": "markdown",
   "metadata": {},
   "source": [
    "## Check if population agrees"
   ]
  },
  {
   "cell_type": "code",
   "execution_count": 28,
   "metadata": {},
   "outputs": [
    {
     "data": {
      "text/html": [
       "<div>\n",
       "<style scoped>\n",
       "    .dataframe tbody tr th:only-of-type {\n",
       "        vertical-align: middle;\n",
       "    }\n",
       "\n",
       "    .dataframe tbody tr th {\n",
       "        vertical-align: top;\n",
       "    }\n",
       "\n",
       "    .dataframe thead th {\n",
       "        text-align: right;\n",
       "    }\n",
       "</style>\n",
       "<table border=\"1\" class=\"dataframe\">\n",
       "  <thead>\n",
       "    <tr style=\"text-align: right;\">\n",
       "      <th></th>\n",
       "      <th>pop_col</th>\n",
       "      <th>population_df</th>\n",
       "      <th>vest_base</th>\n",
       "      <th>equal</th>\n",
       "    </tr>\n",
       "  </thead>\n",
       "  <tbody>\n",
       "    <tr>\n",
       "      <th>TOTPOP</th>\n",
       "      <td>TOTPOP</td>\n",
       "      <td>2117522</td>\n",
       "      <td>2117522</td>\n",
       "      <td>True</td>\n",
       "    </tr>\n",
       "    <tr>\n",
       "      <th>HISP</th>\n",
       "      <td>HISP</td>\n",
       "      <td>1010811</td>\n",
       "      <td>1010811</td>\n",
       "      <td>True</td>\n",
       "    </tr>\n",
       "    <tr>\n",
       "      <th>NH_WHITE</th>\n",
       "      <td>NH_WHITE</td>\n",
       "      <td>772952</td>\n",
       "      <td>772952</td>\n",
       "      <td>True</td>\n",
       "    </tr>\n",
       "    <tr>\n",
       "      <th>NH_BLACK</th>\n",
       "      <td>NH_BLACK</td>\n",
       "      <td>38330</td>\n",
       "      <td>38330</td>\n",
       "      <td>True</td>\n",
       "    </tr>\n",
       "    <tr>\n",
       "      <th>NH_AMIN</th>\n",
       "      <td>NH_AMIN</td>\n",
       "      <td>188610</td>\n",
       "      <td>188610</td>\n",
       "      <td>True</td>\n",
       "    </tr>\n",
       "    <tr>\n",
       "      <th>NH_ASIAN</th>\n",
       "      <td>NH_ASIAN</td>\n",
       "      <td>35261</td>\n",
       "      <td>35261</td>\n",
       "      <td>True</td>\n",
       "    </tr>\n",
       "    <tr>\n",
       "      <th>NH_NHPI</th>\n",
       "      <td>NH_NHPI</td>\n",
       "      <td>1451</td>\n",
       "      <td>1451</td>\n",
       "      <td>True</td>\n",
       "    </tr>\n",
       "    <tr>\n",
       "      <th>NH_OTHER</th>\n",
       "      <td>NH_OTHER</td>\n",
       "      <td>10340</td>\n",
       "      <td>10340</td>\n",
       "      <td>True</td>\n",
       "    </tr>\n",
       "    <tr>\n",
       "      <th>NH_2MORE</th>\n",
       "      <td>NH_2MORE</td>\n",
       "      <td>59767</td>\n",
       "      <td>59767</td>\n",
       "      <td>True</td>\n",
       "    </tr>\n",
       "    <tr>\n",
       "      <th>H_WHITE</th>\n",
       "      <td>H_WHITE</td>\n",
       "      <td>305985</td>\n",
       "      <td>305985</td>\n",
       "      <td>True</td>\n",
       "    </tr>\n",
       "    <tr>\n",
       "      <th>H_BLACK</th>\n",
       "      <td>H_BLACK</td>\n",
       "      <td>7574</td>\n",
       "      <td>7574</td>\n",
       "      <td>True</td>\n",
       "    </tr>\n",
       "    <tr>\n",
       "      <th>H_AMIN</th>\n",
       "      <td>H_AMIN</td>\n",
       "      <td>23631</td>\n",
       "      <td>23631</td>\n",
       "      <td>True</td>\n",
       "    </tr>\n",
       "    <tr>\n",
       "      <th>H_ASIAN</th>\n",
       "      <td>H_ASIAN</td>\n",
       "      <td>2208</td>\n",
       "      <td>2208</td>\n",
       "      <td>True</td>\n",
       "    </tr>\n",
       "    <tr>\n",
       "      <th>H_NHPI</th>\n",
       "      <td>H_NHPI</td>\n",
       "      <td>642</td>\n",
       "      <td>642</td>\n",
       "      <td>True</td>\n",
       "    </tr>\n",
       "    <tr>\n",
       "      <th>H_OTHER</th>\n",
       "      <td>H_OTHER</td>\n",
       "      <td>308292</td>\n",
       "      <td>308292</td>\n",
       "      <td>True</td>\n",
       "    </tr>\n",
       "    <tr>\n",
       "      <th>H_2MORE</th>\n",
       "      <td>H_2MORE</td>\n",
       "      <td>362479</td>\n",
       "      <td>362479</td>\n",
       "      <td>True</td>\n",
       "    </tr>\n",
       "    <tr>\n",
       "      <th>VAP</th>\n",
       "      <td>VAP</td>\n",
       "      <td>1638989</td>\n",
       "      <td>1638989</td>\n",
       "      <td>True</td>\n",
       "    </tr>\n",
       "    <tr>\n",
       "      <th>HVAP</th>\n",
       "      <td>HVAP</td>\n",
       "      <td>726764</td>\n",
       "      <td>726764</td>\n",
       "      <td>True</td>\n",
       "    </tr>\n",
       "    <tr>\n",
       "      <th>WVAP</th>\n",
       "      <td>WVAP</td>\n",
       "      <td>664062</td>\n",
       "      <td>664062</td>\n",
       "      <td>True</td>\n",
       "    </tr>\n",
       "    <tr>\n",
       "      <th>BVAP</th>\n",
       "      <td>BVAP</td>\n",
       "      <td>30778</td>\n",
       "      <td>30778</td>\n",
       "      <td>True</td>\n",
       "    </tr>\n",
       "    <tr>\n",
       "      <th>AMINVAP</th>\n",
       "      <td>AMINVAP</td>\n",
       "      <td>137360</td>\n",
       "      <td>137360</td>\n",
       "      <td>True</td>\n",
       "    </tr>\n",
       "    <tr>\n",
       "      <th>ASIANVAP</th>\n",
       "      <td>ASIANVAP</td>\n",
       "      <td>28989</td>\n",
       "      <td>28989</td>\n",
       "      <td>True</td>\n",
       "    </tr>\n",
       "    <tr>\n",
       "      <th>NHPIVAP</th>\n",
       "      <td>NHPIVAP</td>\n",
       "      <td>1199</td>\n",
       "      <td>1199</td>\n",
       "      <td>True</td>\n",
       "    </tr>\n",
       "    <tr>\n",
       "      <th>OTHERVAP</th>\n",
       "      <td>OTHERVAP</td>\n",
       "      <td>7925</td>\n",
       "      <td>7925</td>\n",
       "      <td>True</td>\n",
       "    </tr>\n",
       "    <tr>\n",
       "      <th>2MOREVAP</th>\n",
       "      <td>2MOREVAP</td>\n",
       "      <td>41912</td>\n",
       "      <td>41912</td>\n",
       "      <td>True</td>\n",
       "    </tr>\n",
       "  </tbody>\n",
       "</table>\n",
       "</div>"
      ],
      "text/plain": [
       "           pop_col  population_df  vest_base  equal\n",
       "TOTPOP      TOTPOP        2117522    2117522   True\n",
       "HISP          HISP        1010811    1010811   True\n",
       "NH_WHITE  NH_WHITE         772952     772952   True\n",
       "NH_BLACK  NH_BLACK          38330      38330   True\n",
       "NH_AMIN    NH_AMIN         188610     188610   True\n",
       "NH_ASIAN  NH_ASIAN          35261      35261   True\n",
       "NH_NHPI    NH_NHPI           1451       1451   True\n",
       "NH_OTHER  NH_OTHER          10340      10340   True\n",
       "NH_2MORE  NH_2MORE          59767      59767   True\n",
       "H_WHITE    H_WHITE         305985     305985   True\n",
       "H_BLACK    H_BLACK           7574       7574   True\n",
       "H_AMIN      H_AMIN          23631      23631   True\n",
       "H_ASIAN    H_ASIAN           2208       2208   True\n",
       "H_NHPI      H_NHPI            642        642   True\n",
       "H_OTHER    H_OTHER         308292     308292   True\n",
       "H_2MORE    H_2MORE         362479     362479   True\n",
       "VAP            VAP        1638989    1638989   True\n",
       "HVAP          HVAP         726764     726764   True\n",
       "WVAP          WVAP         664062     664062   True\n",
       "BVAP          BVAP          30778      30778   True\n",
       "AMINVAP    AMINVAP         137360     137360   True\n",
       "ASIANVAP  ASIANVAP          28989      28989   True\n",
       "NHPIVAP    NHPIVAP           1199       1199   True\n",
       "OTHERVAP  OTHERVAP           7925       7925   True\n",
       "2MOREVAP  2MOREVAP          41912      41912   True"
      ]
     },
     "execution_count": 28,
     "metadata": {},
     "output_type": "execute_result"
    }
   ],
   "source": [
    "pd.DataFrame({\n",
    "    'pop_col': pop_col,\n",
    "    'population_df': population_df[pop_col].sum(), \n",
    "    'vest_base': vest_base[pop_col].sum(),\n",
    "    'equal': [x == y for x, y in zip(population_df[pop_col].sum(), vest_base[pop_col].sum())]\n",
    "})"
   ]
  },
  {
   "cell_type": "markdown",
   "metadata": {},
   "source": [
    "## Add more vest data"
   ]
  },
  {
   "cell_type": "code",
   "execution_count": 29,
   "metadata": {},
   "outputs": [],
   "source": [
    "vest18 = gpd.read_file(vest18_data)\n",
    "vest16 = gpd.read_file(vest16_data)"
   ]
  },
  {
   "cell_type": "code",
   "execution_count": 30,
   "metadata": {},
   "outputs": [
    {
     "data": {
      "text/plain": [
       "Index(['STATEFP', 'COUNTYFP', 'COUNTYNAME', 'VTDST', 'NAME', 'G18USSDHEI',\n",
       "       'G18USSRRIC', 'G18USSLJOH', 'G18GOVDLUJ', 'G18GOVRPEA', 'G18ATGDBAL',\n",
       "       'G18ATGRHEN', 'G18ATGLDUN', 'G18SOSDTOU', 'G18SOSRCLA', 'G18SOSLGRI',\n",
       "       'G18TREDEIC', 'G18TRERCAS', 'G18AUDDCOL', 'G18AUDRJOH', 'G18LNDDGAR',\n",
       "       'G18LNDRLYO', 'G18LNDLLUC', 'G18SSCDVIG', 'G18SSCRCLI', 'G18SACDBOG',\n",
       "       'G18SACRFRE', 'G18SACDMED', 'G18SACRBOH', 'G18SACDZAM', 'G18SACRKIE',\n",
       "       'G18SACDDUF', 'G18SACRGAL', 'G18SACDATT', 'geometry'],\n",
       "      dtype='object')"
      ]
     },
     "execution_count": 30,
     "metadata": {},
     "output_type": "execute_result"
    }
   ],
   "source": [
    "vest18.columns"
   ]
  },
  {
   "cell_type": "code",
   "execution_count": 31,
   "metadata": {},
   "outputs": [
    {
     "data": {
      "text/plain": [
       "Index(['STATEFP', 'COUNTYFP', 'COUNTYNAME', 'VTDST', 'NAME', 'G16PREDCLI',\n",
       "       'G16PRERTRU', 'G16PRELJOH', 'G16PREGSTE', 'G16PREIMCM', 'G16PRECCAS',\n",
       "       'G16PRESLAR', 'G16PREAROC', 'G16SOSDOLI', 'G16SOSRESP', 'G16SSCDVIG',\n",
       "       'G16SSCRNAK', 'G16SACDVAR', 'G16SACRFRE', 'geometry'],\n",
       "      dtype='object')"
      ]
     },
     "execution_count": 31,
     "metadata": {},
     "output_type": "execute_result"
    }
   ],
   "source": [
    "vest16.columns"
   ]
  },
  {
   "cell_type": "code",
   "execution_count": 32,
   "metadata": {},
   "outputs": [
    {
     "name": "stderr",
     "output_type": "stream",
     "text": [
      "100%|██████████| 1492/1492 [00:05<00:00, 258.71it/s]\n"
     ]
    },
    {
     "name": "stdout",
     "output_type": "stream",
     "text": [
      "There are some invalid geometries.\n",
      "Snapping all geometries to a grid with precision 10^( -5 ) to avoid GEOS errors.\n",
      "Identifying overlaps...\n"
     ]
    },
    {
     "name": "stderr",
     "output_type": "stream",
     "text": [
      "100%|██████████| 1493/1493 [00:01<00:00, 1287.71it/s]\n"
     ]
    },
    {
     "name": "stdout",
     "output_type": "stream",
     "text": [
      "Resolving overlaps...\n",
      "Filling gaps...\n"
     ]
    },
    {
     "name": "stderr",
     "output_type": "stream",
     "text": [
      "Gaps to simplify: 0it [00:00, ?it/s]\n",
      "Gaps to fill: 0it [00:00, ?it/s]\n",
      "100%|██████████| 1492/1492 [00:04<00:00, 343.64it/s]\n"
     ]
    },
    {
     "name": "stdout",
     "output_type": "stream",
     "text": [
      "smart_repair successful\n"
     ]
    },
    {
     "name": "stderr",
     "output_type": "stream",
     "text": [
      "100%|██████████| 1492/1492 [00:04<00:00, 360.99it/s]\n",
      "100%|██████████| 1492/1492 [00:15<00:00, 98.91it/s] \n",
      "100%|██████████| 1917/1917 [00:04<00:00, 422.76it/s]\n",
      "100%|██████████| 1917/1917 [00:23<00:00, 81.22it/s] \n"
     ]
    },
    {
     "name": "stdout",
     "output_type": "stream",
     "text": [
      "population agrees\n"
     ]
    }
   ],
   "source": [
    "# check the result here\n",
    "election_df = add_vest(vest18, election_df, '18', population_df, start_col)"
   ]
  },
  {
   "cell_type": "code",
   "execution_count": 33,
   "metadata": {},
   "outputs": [
    {
     "data": {
      "text/plain": [
       "Index(['2MOREVAP', 'AMINVAP', 'ASIANVAP', 'ATG18D', 'ATG18O', 'ATG18R',\n",
       "       'AUD18D', 'AUD18R', 'BVAP', 'COUNTYFP', 'COUNTYNAME', 'GOV18D',\n",
       "       'GOV18R', 'HISP', 'HVAP', 'H_2MORE', 'H_AMIN', 'H_ASIAN', 'H_BLACK',\n",
       "       'H_NHPI', 'H_OTHER', 'H_WHITE', 'LND18D', 'LND18O', 'LND18R', 'NAME',\n",
       "       'NHPIVAP', 'NH_2MORE', 'NH_AMIN', 'NH_ASIAN', 'NH_BLACK', 'NH_NHPI',\n",
       "       'NH_OTHER', 'NH_WHITE', 'OTHERVAP', 'PRE20D', 'PRE20O', 'PRE20R',\n",
       "       'SAC18D', 'SAC18R', 'SAC20D', 'SAC20O', 'SAC20R', 'SOS18D', 'SOS18O',\n",
       "       'SOS18R', 'SSC18D', 'SSC18R', 'SSC20D', 'SSC20R', 'STATEFP', 'TOTPOP',\n",
       "       'TRE18D', 'TRE18R', 'USS18D', 'USS18O', 'USS18R', 'USS20D', 'USS20O',\n",
       "       'USS20R', 'VAP', 'VTDST', 'WVAP', 'geometry'],\n",
       "      dtype='object')"
      ]
     },
     "execution_count": 33,
     "metadata": {},
     "output_type": "execute_result"
    }
   ],
   "source": [
    "election_df.columns"
   ]
  },
  {
   "cell_type": "code",
   "execution_count": 34,
   "metadata": {},
   "outputs": [
    {
     "name": "stderr",
     "output_type": "stream",
     "text": [
      "100%|██████████| 1492/1492 [00:05<00:00, 274.56it/s]\n"
     ]
    },
    {
     "name": "stdout",
     "output_type": "stream",
     "text": [
      "There are some invalid geometries.\n",
      "Snapping all geometries to a grid with precision 10^( -5 ) to avoid GEOS errors.\n",
      "Identifying overlaps...\n"
     ]
    },
    {
     "name": "stderr",
     "output_type": "stream",
     "text": [
      "100%|██████████| 1493/1493 [00:01<00:00, 1260.98it/s]\n"
     ]
    },
    {
     "name": "stdout",
     "output_type": "stream",
     "text": [
      "Resolving overlaps...\n",
      "Filling gaps...\n"
     ]
    },
    {
     "name": "stderr",
     "output_type": "stream",
     "text": [
      "Gaps to simplify: 0it [00:00, ?it/s]\n",
      "Gaps to fill: 0it [00:00, ?it/s]\n",
      "100%|██████████| 1492/1492 [00:05<00:00, 293.10it/s]\n"
     ]
    },
    {
     "name": "stdout",
     "output_type": "stream",
     "text": [
      "smart_repair successful\n"
     ]
    },
    {
     "name": "stderr",
     "output_type": "stream",
     "text": [
      "100%|██████████| 1492/1492 [00:03<00:00, 380.11it/s]\n",
      "100%|██████████| 1492/1492 [00:15<00:00, 99.18it/s] \n",
      "100%|██████████| 1917/1917 [00:04<00:00, 450.58it/s]\n",
      "100%|██████████| 1917/1917 [00:23<00:00, 82.29it/s] \n"
     ]
    },
    {
     "name": "stdout",
     "output_type": "stream",
     "text": [
      "population agrees\n"
     ]
    }
   ],
   "source": [
    "election_df = add_vest(vest16, election_df, '16', population_df, start_col)"
   ]
  },
  {
   "cell_type": "markdown",
   "metadata": {},
   "source": [
    "##  Add the district data"
   ]
  },
  {
   "cell_type": "code",
   "execution_count": 35,
   "metadata": {},
   "outputs": [],
   "source": [
    "send = gpd.read_file(send_data)\n",
    "hdist = gpd.read_file(hdist_data)"
   ]
  },
  {
   "cell_type": "code",
   "execution_count": 36,
   "metadata": {},
   "outputs": [
    {
     "data": {
      "text/html": [
       "<div>\n",
       "<style scoped>\n",
       "    .dataframe tbody tr th:only-of-type {\n",
       "        vertical-align: middle;\n",
       "    }\n",
       "\n",
       "    .dataframe tbody tr th {\n",
       "        vertical-align: top;\n",
       "    }\n",
       "\n",
       "    .dataframe thead th {\n",
       "        text-align: right;\n",
       "    }\n",
       "</style>\n",
       "<table border=\"1\" class=\"dataframe\">\n",
       "  <thead>\n",
       "    <tr style=\"text-align: right;\">\n",
       "      <th></th>\n",
       "      <th>ID</th>\n",
       "      <th>AREA</th>\n",
       "      <th>DISTRICT</th>\n",
       "      <th>MEMBERS</th>\n",
       "      <th>LOCKED</th>\n",
       "      <th>NAME</th>\n",
       "      <th>POPULATION</th>\n",
       "      <th>F18_POP</th>\n",
       "      <th>H18_POP</th>\n",
       "      <th>F18_AP_IND</th>\n",
       "      <th>...</th>\n",
       "      <th>F_NOT_HISP</th>\n",
       "      <th>F_AMINDIAN</th>\n",
       "      <th>F_INGRP_CO</th>\n",
       "      <th>F_DPERFPRE</th>\n",
       "      <th>F_RPERFPRE</th>\n",
       "      <th>F_REGDEM</th>\n",
       "      <th>F_REGREP</th>\n",
       "      <th>F_REGDTSOT</th>\n",
       "      <th>DISTRICT_L</th>\n",
       "      <th>geometry</th>\n",
       "    </tr>\n",
       "  </thead>\n",
       "  <tbody>\n",
       "    <tr>\n",
       "      <th>0</th>\n",
       "      <td>1</td>\n",
       "      <td>17593.5566</td>\n",
       "      <td>1</td>\n",
       "      <td>1.0</td>\n",
       "      <td>None</td>\n",
       "      <td>None</td>\n",
       "      <td>705832</td>\n",
       "      <td>564033</td>\n",
       "      <td>212166</td>\n",
       "      <td>40712</td>\n",
       "      <td>...</td>\n",
       "      <td>0.591060</td>\n",
       "      <td>0.051715</td>\n",
       "      <td>0.001724</td>\n",
       "      <td>0.526240</td>\n",
       "      <td>0.473760</td>\n",
       "      <td>0.431928</td>\n",
       "      <td>0.320938</td>\n",
       "      <td>0.247134</td>\n",
       "      <td>1|-0%</td>\n",
       "      <td>POLYGON ((-105.93164 33.38990, -105.93178 33.3...</td>\n",
       "    </tr>\n",
       "    <tr>\n",
       "      <th>1</th>\n",
       "      <td>2</td>\n",
       "      <td>51577.2304</td>\n",
       "      <td>2</td>\n",
       "      <td>1.0</td>\n",
       "      <td>None</td>\n",
       "      <td>None</td>\n",
       "      <td>705846</td>\n",
       "      <td>534358</td>\n",
       "      <td>299999</td>\n",
       "      <td>42357</td>\n",
       "      <td>...</td>\n",
       "      <td>0.400674</td>\n",
       "      <td>0.061766</td>\n",
       "      <td>0.011155</td>\n",
       "      <td>0.529440</td>\n",
       "      <td>0.470560</td>\n",
       "      <td>0.438271</td>\n",
       "      <td>0.305212</td>\n",
       "      <td>0.256517</td>\n",
       "      <td>2|0%</td>\n",
       "      <td>POLYGON ((-109.04600 34.95982, -109.04600 34.9...</td>\n",
       "    </tr>\n",
       "    <tr>\n",
       "      <th>2</th>\n",
       "      <td>3</td>\n",
       "      <td>52445.4687</td>\n",
       "      <td>3</td>\n",
       "      <td>1.0</td>\n",
       "      <td>None</td>\n",
       "      <td>None</td>\n",
       "      <td>705844</td>\n",
       "      <td>540598</td>\n",
       "      <td>214599</td>\n",
       "      <td>105408</td>\n",
       "      <td>...</td>\n",
       "      <td>0.576201</td>\n",
       "      <td>0.187211</td>\n",
       "      <td>0.008098</td>\n",
       "      <td>0.549884</td>\n",
       "      <td>0.450116</td>\n",
       "      <td>0.476484</td>\n",
       "      <td>0.300534</td>\n",
       "      <td>0.222982</td>\n",
       "      <td>3|0%</td>\n",
       "      <td>POLYGON ((-108.46868 35.29924, -108.46872 35.2...</td>\n",
       "    </tr>\n",
       "  </tbody>\n",
       "</table>\n",
       "<p>3 rows × 80 columns</p>\n",
       "</div>"
      ],
      "text/plain": [
       "   ID        AREA DISTRICT  MEMBERS LOCKED  NAME  POPULATION  F18_POP  \\\n",
       "0   1  17593.5566        1      1.0   None  None      705832   564033   \n",
       "1   2  51577.2304        2      1.0   None  None      705846   534358   \n",
       "2   3  52445.4687        3      1.0   None  None      705844   540598   \n",
       "\n",
       "   H18_POP  F18_AP_IND  ...  F_NOT_HISP  F_AMINDIAN  F_INGRP_CO  F_DPERFPRE  \\\n",
       "0   212166       40712  ...    0.591060    0.051715    0.001724    0.526240   \n",
       "1   299999       42357  ...    0.400674    0.061766    0.011155    0.529440   \n",
       "2   214599      105408  ...    0.576201    0.187211    0.008098    0.549884   \n",
       "\n",
       "   F_RPERFPRE  F_REGDEM  F_REGREP  F_REGDTSOT  DISTRICT_L  \\\n",
       "0    0.473760  0.431928  0.320938    0.247134       1|-0%   \n",
       "1    0.470560  0.438271  0.305212    0.256517        2|0%   \n",
       "2    0.450116  0.476484  0.300534    0.222982        3|0%   \n",
       "\n",
       "                                            geometry  \n",
       "0  POLYGON ((-105.93164 33.38990, -105.93178 33.3...  \n",
       "1  POLYGON ((-109.04600 34.95982, -109.04600 34.9...  \n",
       "2  POLYGON ((-108.46868 35.29924, -108.46872 35.2...  \n",
       "\n",
       "[3 rows x 80 columns]"
      ]
     },
     "execution_count": 36,
     "metadata": {},
     "output_type": "execute_result"
    }
   ],
   "source": [
    "cong_df.head()"
   ]
  },
  {
   "cell_type": "code",
   "execution_count": 37,
   "metadata": {},
   "outputs": [
    {
     "name": "stderr",
     "output_type": "stream",
     "text": [
      "100%|██████████| 3/3 [00:00<00:00, 26.64it/s]\n",
      "100%|██████████| 3/3 [00:00<00:00, 31.06it/s]\n",
      "100%|██████████| 3/3 [00:01<00:00,  2.48it/s]\n"
     ]
    }
   ],
   "source": [
    "election_df = add_district(cong_df, \"CD\", election_df, \"DISTRICT\")"
   ]
  },
  {
   "cell_type": "code",
   "execution_count": 38,
   "metadata": {},
   "outputs": [
    {
     "data": {
      "text/html": [
       "<div>\n",
       "<style scoped>\n",
       "    .dataframe tbody tr th:only-of-type {\n",
       "        vertical-align: middle;\n",
       "    }\n",
       "\n",
       "    .dataframe tbody tr th {\n",
       "        vertical-align: top;\n",
       "    }\n",
       "\n",
       "    .dataframe thead th {\n",
       "        text-align: right;\n",
       "    }\n",
       "</style>\n",
       "<table border=\"1\" class=\"dataframe\">\n",
       "  <thead>\n",
       "    <tr style=\"text-align: right;\">\n",
       "      <th></th>\n",
       "      <th>ID</th>\n",
       "      <th>AREA</th>\n",
       "      <th>DISTRICT</th>\n",
       "      <th>MEMBERS</th>\n",
       "      <th>LOCKED</th>\n",
       "      <th>NAME</th>\n",
       "      <th>POPULATION</th>\n",
       "      <th>F18_POP</th>\n",
       "      <th>H18_POP</th>\n",
       "      <th>F18_AP_IND</th>\n",
       "      <th>...</th>\n",
       "      <th>FORMULA_F6</th>\n",
       "      <th>POLSBY_PO5</th>\n",
       "      <th>POLSBY_PO6</th>\n",
       "      <th>POLSBY_PO7</th>\n",
       "      <th>POLSBY_PO8</th>\n",
       "      <th>POLSBY_PO9</th>\n",
       "      <th>POLSBY_P10</th>\n",
       "      <th>REOCK</th>\n",
       "      <th>DISTRICT_L</th>\n",
       "      <th>geometry</th>\n",
       "    </tr>\n",
       "  </thead>\n",
       "  <tbody>\n",
       "    <tr>\n",
       "      <th>0</th>\n",
       "      <td>1</td>\n",
       "      <td>166.459534</td>\n",
       "      <td>1</td>\n",
       "      <td>1.0</td>\n",
       "      <td>None</td>\n",
       "      <td>None</td>\n",
       "      <td>47068</td>\n",
       "      <td>34250</td>\n",
       "      <td>6269</td>\n",
       "      <td>13412</td>\n",
       "      <td>...</td>\n",
       "      <td>1|-6.64%|D:31.3%</td>\n",
       "      <td>0.243865</td>\n",
       "      <td>0.243865</td>\n",
       "      <td>0.243865</td>\n",
       "      <td>0.243865</td>\n",
       "      <td>0.243865</td>\n",
       "      <td>0.243865</td>\n",
       "      <td>0.293581</td>\n",
       "      <td>1|-6.64%</td>\n",
       "      <td>POLYGON ((-108.20971 36.77147, -108.20960 36.7...</td>\n",
       "    </tr>\n",
       "    <tr>\n",
       "      <th>1</th>\n",
       "      <td>2</td>\n",
       "      <td>29.514738</td>\n",
       "      <td>10</td>\n",
       "      <td>1.0</td>\n",
       "      <td>None</td>\n",
       "      <td>None</td>\n",
       "      <td>48840</td>\n",
       "      <td>39621</td>\n",
       "      <td>17878</td>\n",
       "      <td>2518</td>\n",
       "      <td>...</td>\n",
       "      <td>10|-3.13%|D:60.2%</td>\n",
       "      <td>0.189475</td>\n",
       "      <td>0.189475</td>\n",
       "      <td>0.189475</td>\n",
       "      <td>0.189475</td>\n",
       "      <td>0.189475</td>\n",
       "      <td>0.189475</td>\n",
       "      <td>0.297863</td>\n",
       "      <td>10|-3.13%</td>\n",
       "      <td>POLYGON ((-106.68805 35.13396, -106.68788 35.1...</td>\n",
       "    </tr>\n",
       "    <tr>\n",
       "      <th>2</th>\n",
       "      <td>3</td>\n",
       "      <td>10.856782</td>\n",
       "      <td>11</td>\n",
       "      <td>1.0</td>\n",
       "      <td>None</td>\n",
       "      <td>None</td>\n",
       "      <td>50252</td>\n",
       "      <td>36320</td>\n",
       "      <td>29883</td>\n",
       "      <td>1980</td>\n",
       "      <td>...</td>\n",
       "      <td>11|-0.33%|D:68.2%</td>\n",
       "      <td>0.427998</td>\n",
       "      <td>0.427998</td>\n",
       "      <td>0.427998</td>\n",
       "      <td>0.427998</td>\n",
       "      <td>0.427998</td>\n",
       "      <td>0.427998</td>\n",
       "      <td>0.422630</td>\n",
       "      <td>11|-0.33%</td>\n",
       "      <td>POLYGON ((-106.76027 35.05588, -106.76061 35.0...</td>\n",
       "    </tr>\n",
       "    <tr>\n",
       "      <th>3</th>\n",
       "      <td>4</td>\n",
       "      <td>14.549558</td>\n",
       "      <td>12</td>\n",
       "      <td>1.0</td>\n",
       "      <td>None</td>\n",
       "      <td>None</td>\n",
       "      <td>51681</td>\n",
       "      <td>39029</td>\n",
       "      <td>15502</td>\n",
       "      <td>2547</td>\n",
       "      <td>...</td>\n",
       "      <td>12|2.51%|D:46.8%</td>\n",
       "      <td>0.355263</td>\n",
       "      <td>0.355263</td>\n",
       "      <td>0.355263</td>\n",
       "      <td>0.355263</td>\n",
       "      <td>0.355263</td>\n",
       "      <td>0.355263</td>\n",
       "      <td>0.429972</td>\n",
       "      <td>12|2.51%</td>\n",
       "      <td>POLYGON ((-106.72010 35.18397, -106.72067 35.1...</td>\n",
       "    </tr>\n",
       "    <tr>\n",
       "      <th>4</th>\n",
       "      <td>5</td>\n",
       "      <td>19.645391</td>\n",
       "      <td>13</td>\n",
       "      <td>1.0</td>\n",
       "      <td>None</td>\n",
       "      <td>None</td>\n",
       "      <td>48663</td>\n",
       "      <td>40401</td>\n",
       "      <td>21121</td>\n",
       "      <td>3444</td>\n",
       "      <td>...</td>\n",
       "      <td>13|-3.48%|D:71.8%</td>\n",
       "      <td>0.210013</td>\n",
       "      <td>0.210013</td>\n",
       "      <td>0.210013</td>\n",
       "      <td>0.210013</td>\n",
       "      <td>0.210013</td>\n",
       "      <td>0.210013</td>\n",
       "      <td>0.272271</td>\n",
       "      <td>13|-3.48%</td>\n",
       "      <td>POLYGON ((-106.63762 35.04756, -106.63808 35.0...</td>\n",
       "    </tr>\n",
       "  </tbody>\n",
       "</table>\n",
       "<p>5 rows × 97 columns</p>\n",
       "</div>"
      ],
      "text/plain": [
       "   ID        AREA DISTRICT  MEMBERS LOCKED  NAME  POPULATION  F18_POP  \\\n",
       "0   1  166.459534        1      1.0   None  None       47068    34250   \n",
       "1   2   29.514738       10      1.0   None  None       48840    39621   \n",
       "2   3   10.856782       11      1.0   None  None       50252    36320   \n",
       "3   4   14.549558       12      1.0   None  None       51681    39029   \n",
       "4   5   19.645391       13      1.0   None  None       48663    40401   \n",
       "\n",
       "   H18_POP  F18_AP_IND  ...         FORMULA_F6  POLSBY_PO5  POLSBY_PO6  \\\n",
       "0     6269       13412  ...   1|-6.64%|D:31.3%    0.243865    0.243865   \n",
       "1    17878        2518  ...  10|-3.13%|D:60.2%    0.189475    0.189475   \n",
       "2    29883        1980  ...  11|-0.33%|D:68.2%    0.427998    0.427998   \n",
       "3    15502        2547  ...   12|2.51%|D:46.8%    0.355263    0.355263   \n",
       "4    21121        3444  ...  13|-3.48%|D:71.8%    0.210013    0.210013   \n",
       "\n",
       "   POLSBY_PO7  POLSBY_PO8  POLSBY_PO9  POLSBY_P10     REOCK  DISTRICT_L  \\\n",
       "0    0.243865    0.243865    0.243865    0.243865  0.293581    1|-6.64%   \n",
       "1    0.189475    0.189475    0.189475    0.189475  0.297863   10|-3.13%   \n",
       "2    0.427998    0.427998    0.427998    0.427998  0.422630   11|-0.33%   \n",
       "3    0.355263    0.355263    0.355263    0.355263  0.429972    12|2.51%   \n",
       "4    0.210013    0.210013    0.210013    0.210013  0.272271   13|-3.48%   \n",
       "\n",
       "                                            geometry  \n",
       "0  POLYGON ((-108.20971 36.77147, -108.20960 36.7...  \n",
       "1  POLYGON ((-106.68805 35.13396, -106.68788 35.1...  \n",
       "2  POLYGON ((-106.76027 35.05588, -106.76061 35.0...  \n",
       "3  POLYGON ((-106.72010 35.18397, -106.72067 35.1...  \n",
       "4  POLYGON ((-106.63762 35.04756, -106.63808 35.0...  \n",
       "\n",
       "[5 rows x 97 columns]"
      ]
     },
     "execution_count": 38,
     "metadata": {},
     "output_type": "execute_result"
    }
   ],
   "source": [
    "send.head()"
   ]
  },
  {
   "cell_type": "code",
   "execution_count": 39,
   "metadata": {},
   "outputs": [
    {
     "name": "stderr",
     "output_type": "stream",
     "text": [
      "100%|██████████| 42/42 [00:00<00:00, 43.75it/s]\n",
      "100%|██████████| 42/42 [00:00<00:00, 166.84it/s]\n",
      "100%|██████████| 42/42 [00:05<00:00,  7.00it/s]\n"
     ]
    }
   ],
   "source": [
    "election_df = add_district(send, \"SEND\", election_df, \"DISTRICT\")"
   ]
  },
  {
   "cell_type": "code",
   "execution_count": 40,
   "metadata": {},
   "outputs": [
    {
     "data": {
      "text/html": [
       "<div>\n",
       "<style scoped>\n",
       "    .dataframe tbody tr th:only-of-type {\n",
       "        vertical-align: middle;\n",
       "    }\n",
       "\n",
       "    .dataframe tbody tr th {\n",
       "        vertical-align: top;\n",
       "    }\n",
       "\n",
       "    .dataframe thead th {\n",
       "        text-align: right;\n",
       "    }\n",
       "</style>\n",
       "<table border=\"1\" class=\"dataframe\">\n",
       "  <thead>\n",
       "    <tr style=\"text-align: right;\">\n",
       "      <th></th>\n",
       "      <th>ID</th>\n",
       "      <th>AREA</th>\n",
       "      <th>DISTRICT</th>\n",
       "      <th>MEMBERS</th>\n",
       "      <th>LOCKED</th>\n",
       "      <th>NAME</th>\n",
       "      <th>POPULATION</th>\n",
       "      <th>F18_POP</th>\n",
       "      <th>H18_POP</th>\n",
       "      <th>F18_AP_IND</th>\n",
       "      <th>...</th>\n",
       "      <th>F_REGDEM</th>\n",
       "      <th>F_REGREP</th>\n",
       "      <th>F_REGDTSOT</th>\n",
       "      <th>FORMULA_FI</th>\n",
       "      <th>FORMULA_F1</th>\n",
       "      <th>FORMULA_F2</th>\n",
       "      <th>FORMULA_F3</th>\n",
       "      <th>FORMULA_F4</th>\n",
       "      <th>DISTRICT_L</th>\n",
       "      <th>geometry</th>\n",
       "    </tr>\n",
       "  </thead>\n",
       "  <tbody>\n",
       "    <tr>\n",
       "      <th>0</th>\n",
       "      <td>1</td>\n",
       "      <td>355.002441</td>\n",
       "      <td>1</td>\n",
       "      <td>1.0</td>\n",
       "      <td>None</td>\n",
       "      <td>None</td>\n",
       "      <td>28162</td>\n",
       "      <td>20833</td>\n",
       "      <td>3960</td>\n",
       "      <td>3850</td>\n",
       "      <td>...</td>\n",
       "      <td>0.181855</td>\n",
       "      <td>0.594009</td>\n",
       "      <td>0.224136</td>\n",
       "      <td>1|Dev: -6.9%|18+ NA: 14.43%</td>\n",
       "      <td>1|-6.9%|18+ NA: 14.43%</td>\n",
       "      <td>1|-6.9%|NAVAP: 14.43%</td>\n",
       "      <td>1|-6.9%|NAVAP: 14.43%</td>\n",
       "      <td>1|-6.9%|NAVAP: 14.43%</td>\n",
       "      <td>1|-6.9%</td>\n",
       "      <td>POLYGON ((-108.22320 36.75468, -108.22343 36.7...</td>\n",
       "    </tr>\n",
       "    <tr>\n",
       "      <th>1</th>\n",
       "      <td>2</td>\n",
       "      <td>131.669159</td>\n",
       "      <td>10</td>\n",
       "      <td>1.0</td>\n",
       "      <td>None</td>\n",
       "      <td>None</td>\n",
       "      <td>30697</td>\n",
       "      <td>23530</td>\n",
       "      <td>16131</td>\n",
       "      <td>1038</td>\n",
       "      <td>...</td>\n",
       "      <td>0.520037</td>\n",
       "      <td>0.226351</td>\n",
       "      <td>0.253611</td>\n",
       "      <td>10|Dev: 1.48%|18+ NA: 1.6%</td>\n",
       "      <td>10|1.48%|18+ NA: 1.6%</td>\n",
       "      <td>10|1.48%|NAVAP: 1.6%</td>\n",
       "      <td>10|1.48%|NAVAP: 1.6%</td>\n",
       "      <td>10|1.48%|NAVAP: 1.6%</td>\n",
       "      <td>10|1.48%</td>\n",
       "      <td>POLYGON ((-106.63944 35.06980, -106.63903 35.0...</td>\n",
       "    </tr>\n",
       "    <tr>\n",
       "      <th>2</th>\n",
       "      <td>3</td>\n",
       "      <td>11.999463</td>\n",
       "      <td>11</td>\n",
       "      <td>1.0</td>\n",
       "      <td>None</td>\n",
       "      <td>None</td>\n",
       "      <td>30889</td>\n",
       "      <td>25549</td>\n",
       "      <td>12986</td>\n",
       "      <td>2392</td>\n",
       "      <td>...</td>\n",
       "      <td>0.596930</td>\n",
       "      <td>0.155876</td>\n",
       "      <td>0.247194</td>\n",
       "      <td>11|Dev: 2.11%|18+ NA: 5.36%</td>\n",
       "      <td>11|2.11%|18+ NA: 5.36%</td>\n",
       "      <td>11|2.11%|NAVAP: 5.36%</td>\n",
       "      <td>11|2.11%|NAVAP: 5.36%</td>\n",
       "      <td>11|2.11%|NAVAP: 5.36%</td>\n",
       "      <td>11|2.11%</td>\n",
       "      <td>POLYGON ((-106.68117 35.08907, -106.68121 35.0...</td>\n",
       "    </tr>\n",
       "    <tr>\n",
       "      <th>3</th>\n",
       "      <td>4</td>\n",
       "      <td>9.793800</td>\n",
       "      <td>12</td>\n",
       "      <td>1.0</td>\n",
       "      <td>None</td>\n",
       "      <td>None</td>\n",
       "      <td>30913</td>\n",
       "      <td>22693</td>\n",
       "      <td>18914</td>\n",
       "      <td>1028</td>\n",
       "      <td>...</td>\n",
       "      <td>0.555525</td>\n",
       "      <td>0.179781</td>\n",
       "      <td>0.264694</td>\n",
       "      <td>12|Dev: 2.19%|18+ NA: 1.65%</td>\n",
       "      <td>12|2.19%|18+ NA: 1.65%</td>\n",
       "      <td>12|2.19%|NAVAP: 1.65%</td>\n",
       "      <td>12|2.19%|NAVAP: 1.65%</td>\n",
       "      <td>12|2.19%|NAVAP: 1.65%</td>\n",
       "      <td>12|2.19%</td>\n",
       "      <td>POLYGON ((-106.72209 35.05312, -106.72204 35.0...</td>\n",
       "    </tr>\n",
       "    <tr>\n",
       "      <th>4</th>\n",
       "      <td>5</td>\n",
       "      <td>4.003754</td>\n",
       "      <td>13</td>\n",
       "      <td>1.0</td>\n",
       "      <td>None</td>\n",
       "      <td>None</td>\n",
       "      <td>31134</td>\n",
       "      <td>21616</td>\n",
       "      <td>16717</td>\n",
       "      <td>1425</td>\n",
       "      <td>...</td>\n",
       "      <td>0.509788</td>\n",
       "      <td>0.193243</td>\n",
       "      <td>0.296970</td>\n",
       "      <td>13|Dev: 2.92%|18+ NA: 3.46%</td>\n",
       "      <td>13|2.92%|18+ NA: 3.46%</td>\n",
       "      <td>13|2.92%|NAVAP: 3.46%</td>\n",
       "      <td>13|2.92%|NAVAP: 3.46%</td>\n",
       "      <td>13|2.92%|NAVAP: 3.46%</td>\n",
       "      <td>13|2.92%</td>\n",
       "      <td>POLYGON ((-106.73786 35.07380, -106.73784 35.0...</td>\n",
       "    </tr>\n",
       "  </tbody>\n",
       "</table>\n",
       "<p>5 rows × 87 columns</p>\n",
       "</div>"
      ],
      "text/plain": [
       "   ID        AREA DISTRICT  MEMBERS LOCKED  NAME  POPULATION  F18_POP  \\\n",
       "0   1  355.002441        1      1.0   None  None       28162    20833   \n",
       "1   2  131.669159       10      1.0   None  None       30697    23530   \n",
       "2   3   11.999463       11      1.0   None  None       30889    25549   \n",
       "3   4    9.793800       12      1.0   None  None       30913    22693   \n",
       "4   5    4.003754       13      1.0   None  None       31134    21616   \n",
       "\n",
       "   H18_POP  F18_AP_IND  ...  F_REGDEM  F_REGREP  F_REGDTSOT  \\\n",
       "0     3960        3850  ...  0.181855  0.594009    0.224136   \n",
       "1    16131        1038  ...  0.520037  0.226351    0.253611   \n",
       "2    12986        2392  ...  0.596930  0.155876    0.247194   \n",
       "3    18914        1028  ...  0.555525  0.179781    0.264694   \n",
       "4    16717        1425  ...  0.509788  0.193243    0.296970   \n",
       "\n",
       "                    FORMULA_FI              FORMULA_F1             FORMULA_F2  \\\n",
       "0  1|Dev: -6.9%|18+ NA: 14.43%  1|-6.9%|18+ NA: 14.43%  1|-6.9%|NAVAP: 14.43%   \n",
       "1   10|Dev: 1.48%|18+ NA: 1.6%   10|1.48%|18+ NA: 1.6%   10|1.48%|NAVAP: 1.6%   \n",
       "2  11|Dev: 2.11%|18+ NA: 5.36%  11|2.11%|18+ NA: 5.36%  11|2.11%|NAVAP: 5.36%   \n",
       "3  12|Dev: 2.19%|18+ NA: 1.65%  12|2.19%|18+ NA: 1.65%  12|2.19%|NAVAP: 1.65%   \n",
       "4  13|Dev: 2.92%|18+ NA: 3.46%  13|2.92%|18+ NA: 3.46%  13|2.92%|NAVAP: 3.46%   \n",
       "\n",
       "              FORMULA_F3             FORMULA_F4  DISTRICT_L  \\\n",
       "0  1|-6.9%|NAVAP: 14.43%  1|-6.9%|NAVAP: 14.43%     1|-6.9%   \n",
       "1   10|1.48%|NAVAP: 1.6%   10|1.48%|NAVAP: 1.6%    10|1.48%   \n",
       "2  11|2.11%|NAVAP: 5.36%  11|2.11%|NAVAP: 5.36%    11|2.11%   \n",
       "3  12|2.19%|NAVAP: 1.65%  12|2.19%|NAVAP: 1.65%    12|2.19%   \n",
       "4  13|2.92%|NAVAP: 3.46%  13|2.92%|NAVAP: 3.46%    13|2.92%   \n",
       "\n",
       "                                            geometry  \n",
       "0  POLYGON ((-108.22320 36.75468, -108.22343 36.7...  \n",
       "1  POLYGON ((-106.63944 35.06980, -106.63903 35.0...  \n",
       "2  POLYGON ((-106.68117 35.08907, -106.68121 35.0...  \n",
       "3  POLYGON ((-106.72209 35.05312, -106.72204 35.0...  \n",
       "4  POLYGON ((-106.73786 35.07380, -106.73784 35.0...  \n",
       "\n",
       "[5 rows x 87 columns]"
      ]
     },
     "execution_count": 40,
     "metadata": {},
     "output_type": "execute_result"
    }
   ],
   "source": [
    "hdist.head()"
   ]
  },
  {
   "cell_type": "code",
   "execution_count": 41,
   "metadata": {},
   "outputs": [
    {
     "name": "stderr",
     "output_type": "stream",
     "text": [
      "100%|██████████| 70/70 [00:01<00:00, 58.65it/s] \n",
      "100%|██████████| 70/70 [00:00<00:00, 249.11it/s]\n",
      "100%|██████████| 70/70 [00:05<00:00, 12.21it/s]\n"
     ]
    }
   ],
   "source": [
    "hdist = hdist.to_crs(\"EPSG:4269\")\n",
    "election_df = add_district(hdist, \"HDIST\", election_df, \"DISTRICT\")"
   ]
  },
  {
   "cell_type": "code",
   "execution_count": 42,
   "metadata": {},
   "outputs": [
    {
     "data": {
      "text/plain": [
       "Index(['2MOREVAP', 'AMINVAP', 'ASIANVAP', 'ATG18D', 'ATG18O', 'ATG18R',\n",
       "       'AUD18D', 'AUD18R', 'BVAP', 'COUNTYFP', 'COUNTYNAME', 'GOV18D',\n",
       "       'GOV18R', 'HISP', 'HVAP', 'H_2MORE', 'H_AMIN', 'H_ASIAN', 'H_BLACK',\n",
       "       'H_NHPI', 'H_OTHER', 'H_WHITE', 'LND18D', 'LND18O', 'LND18R', 'NAME',\n",
       "       'NHPIVAP', 'NH_2MORE', 'NH_AMIN', 'NH_ASIAN', 'NH_BLACK', 'NH_NHPI',\n",
       "       'NH_OTHER', 'NH_WHITE', 'OTHERVAP', 'PRE16D', 'PRE16O', 'PRE16R',\n",
       "       'PRE20D', 'PRE20O', 'PRE20R', 'SAC16D', 'SAC16R', 'SAC18D', 'SAC18R',\n",
       "       'SAC20D', 'SAC20O', 'SAC20R', 'SOS16D', 'SOS16R', 'SOS18D', 'SOS18O',\n",
       "       'SOS18R', 'SSC16D', 'SSC16R', 'SSC18D', 'SSC18R', 'SSC20D', 'SSC20R',\n",
       "       'STATEFP', 'TOTPOP', 'TRE18D', 'TRE18R', 'USS18D', 'USS18O', 'USS18R',\n",
       "       'USS20D', 'USS20O', 'USS20R', 'VAP', 'VTDST', 'WVAP', 'geometry', 'CD',\n",
       "       'SEND', 'HDIST'],\n",
       "      dtype='object')"
      ]
     },
     "execution_count": 42,
     "metadata": {},
     "output_type": "execute_result"
    }
   ],
   "source": [
    "election_df.columns"
   ]
  },
  {
   "cell_type": "markdown",
   "metadata": {},
   "source": [
    "### Put the base precinct year after the precinct information column"
   ]
  },
  {
   "cell_type": "code",
   "execution_count": 43,
   "metadata": {},
   "outputs": [],
   "source": [
    "'STATEFP', 'COUNTYFP', 'COUNTYNAME', 'VTDST', 'NAME',\n",
    "base_columns = {}\n",
    "if 'COUNTYFP' + year not in election_df.columns:\n",
    "    base_columns = {\n",
    "        'STATEFP':'STATEFP'+year,\n",
    "        'COUNTYFP':'COUNTYFP'+year,\n",
    "        'COUNTYNAME':'COUNTYNAME'+year,\n",
    "        'VTDST':'VTDST'+year,\n",
    "        'NAME':'NAME'+year}\n",
    "election_df.rename(columns=base_columns, inplace = True)"
   ]
  },
  {
   "cell_type": "code",
   "execution_count": 44,
   "metadata": {},
   "outputs": [
    {
     "data": {
      "text/plain": [
       "Index(['2MOREVAP', 'AMINVAP', 'ASIANVAP', 'ATG18D', 'ATG18O', 'ATG18R',\n",
       "       'AUD18D', 'AUD18R', 'BVAP', 'COUNTYFP20', 'COUNTYNAME20', 'GOV18D',\n",
       "       'GOV18R', 'HISP', 'HVAP', 'H_2MORE', 'H_AMIN', 'H_ASIAN', 'H_BLACK',\n",
       "       'H_NHPI', 'H_OTHER', 'H_WHITE', 'LND18D', 'LND18O', 'LND18R', 'NAME20',\n",
       "       'NHPIVAP', 'NH_2MORE', 'NH_AMIN', 'NH_ASIAN', 'NH_BLACK', 'NH_NHPI',\n",
       "       'NH_OTHER', 'NH_WHITE', 'OTHERVAP', 'PRE16D', 'PRE16O', 'PRE16R',\n",
       "       'PRE20D', 'PRE20O', 'PRE20R', 'SAC16D', 'SAC16R', 'SAC18D', 'SAC18R',\n",
       "       'SAC20D', 'SAC20O', 'SAC20R', 'SOS16D', 'SOS16R', 'SOS18D', 'SOS18O',\n",
       "       'SOS18R', 'SSC16D', 'SSC16R', 'SSC18D', 'SSC18R', 'SSC20D', 'SSC20R',\n",
       "       'STATEFP20', 'TOTPOP', 'TRE18D', 'TRE18R', 'USS18D', 'USS18O', 'USS18R',\n",
       "       'USS20D', 'USS20O', 'USS20R', 'VAP', 'VTDST20', 'WVAP', 'geometry',\n",
       "       'CD', 'SEND', 'HDIST'],\n",
       "      dtype='object')"
      ]
     },
     "execution_count": 44,
     "metadata": {},
     "output_type": "execute_result"
    }
   ],
   "source": [
    "election_df.columns"
   ]
  },
  {
   "cell_type": "code",
   "execution_count": 45,
   "metadata": {},
   "outputs": [],
   "source": [
    "# reorder the columns\n",
    "fixed_columns = [\n",
    "    'STATEFP'+year,\n",
    "    'COUNTYFP'+year,\n",
    "    'COUNTYNAME'+year,\n",
    "    'VTDST'+year,\n",
    "    'NAME'+year,\n",
    "    'CD',\n",
    "    'SEND',\n",
    "    'HDIST',\n",
    "    'TOTPOP',\n",
    "    'NH_2MORE',\n",
    "    'NH_AMIN',\n",
    "    'NH_ASIAN',\n",
    "    'NH_BLACK',\n",
    "    'NH_NHPI',\n",
    "    'NH_OTHER',\n",
    "    'NH_WHITE',\n",
    "    'HISP',\n",
    "    'H_AMIN',\n",
    "    'H_ASIAN',\n",
    "    'H_BLACK',\n",
    "    'H_NHPI',\n",
    "    'H_OTHER',\n",
    "    'H_WHITE',\n",
    "    'H_2MORE',\n",
    "    'VAP',\n",
    "    'HVAP',\n",
    "    'WVAP',\n",
    "    'BVAP',\n",
    "    'AMINVAP',\n",
    "    'ASIANVAP',\n",
    "    'NHPIVAP',\n",
    "    'OTHERVAP',\n",
    "    '2MOREVAP']\n",
    "\n",
    "election_columns = [col for col in election_df.columns if col not in fixed_columns]\n",
    "final_col = fixed_columns + election_columns\n",
    "election_df = election_df[final_col]"
   ]
  },
  {
   "cell_type": "code",
   "execution_count": 46,
   "metadata": {},
   "outputs": [],
   "source": [
    "import os\n",
    "\n",
    "# store the result in directory \"il\"\n",
    "directory = \"./{}\".format(state_ab)\n",
    "if not os.path.exists(directory):\n",
    "    os.makedirs(directory)\n",
    "\n",
    "shapefile_path = \"./{}/{}.shp\".format(state_ab, state_ab)\n",
    "geojson_path = './{}/{}.geojson'.format(state_ab, state_ab)\n",
    "json_path = \"./{}/{}.json\".format(state_ab, state_ab)\n",
    "\n",
    "# Check if the shapefile or geojson file already exists\n",
    "if os.path.exists(shapefile_path):\n",
    "    os.remove(shapefile_path)\n",
    "if os.path.exists(geojson_path):\n",
    "    os.remove(geojson_path)\n",
    "\n",
    "election_df.to_file(shapefile_path)\n",
    "election_df.to_file(geojson_path, driver='GeoJSON')\n",
    "\n",
    "# Only do once to build json and read from file when generating ensembles\n",
    "graph = Graph.from_file(shapefile_path, ignore_errors=True)\n",
    "graph.to_json(json_path)"
   ]
  },
  {
   "cell_type": "code",
   "execution_count": 47,
   "metadata": {},
   "outputs": [
    {
     "data": {
      "text/plain": [
       "<Axes: >"
      ]
     },
     "execution_count": 47,
     "metadata": {},
     "output_type": "execute_result"
    },
    {
     "data": {
      "image/png": "[encoded data removed]",
      "text/plain": [
       "<Figure size 640x480 with 1 Axes>"
      ]
     },
     "metadata": {},
     "output_type": "display_data"
    }
   ],
   "source": [
    "shapefile_path = \"./{}/{}.shp\".format(state_ab, state_ab)\n",
    "shape=gpd.read_file(shapefile_path)\n",
    "shape.plot()"
   ]
  }
 ],
 "metadata": {
  "kernelspec": {
   "display_name": "gerry",
   "language": "python",
   "name": "python3"
  },
  "language_info": {
   "codemirror_mode": {
    "name": "ipython",
    "version": 3
   },
   "file_extension": ".py",
   "mimetype": "text/x-python",
   "name": "python",
   "nbconvert_exporter": "python",
   "pygments_lexer": "ipython3",
   "version": "3.11.7"
  }
 },
 "nbformat": 4,
 "nbformat_minor": 2
}
